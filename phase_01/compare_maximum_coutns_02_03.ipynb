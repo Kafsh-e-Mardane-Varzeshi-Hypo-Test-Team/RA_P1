{
 "cells": [
  {
   "cell_type": "code",
   "execution_count": 14,
   "id": "eeeafd05",
   "metadata": {},
   "outputs": [],
   "source": [
    "import pandas as pd\n",
    "import os\n",
    "import plotly.express as px"
   ]
  },
  {
   "cell_type": "code",
   "execution_count": 15,
   "id": "9210955d",
   "metadata": {},
   "outputs": [],
   "source": [
    "path = \"F:\\\\Regression Analysis\\\\RA_P1\\\\data\\\\total_sum_car_sorted\\\\\""
   ]
  },
  {
   "cell_type": "code",
   "execution_count": 16,
   "id": "03f189dd",
   "metadata": {},
   "outputs": [],
   "source": [
    "files = os.listdir(path)\n",
    "files.remove('compared.csv')\n",
    "dfs = [pd.read_csv(path + file, header=0) for file in files]\n",
    "for df in dfs:\n",
    "    df['code'] = df['code'].astype(str)\n",
    "    df['est_sum_total_est'] = df['est_sum_total_est'].astype(int)"
   ]
  },
  {
   "cell_type": "code",
   "execution_count": 17,
   "id": "8146c301",
   "metadata": {},
   "outputs": [],
   "source": [
    "def get_nerkh(new, old):\n",
    "    return (new - old)/old * 100"
   ]
  },
  {
   "cell_type": "code",
   "execution_count": 18,
   "id": "7aeb6536",
   "metadata": {},
   "outputs": [
    {
     "data": {
      "text/html": [
       "<div>\n",
       "<style scoped>\n",
       "    .dataframe tbody tr th:only-of-type {\n",
       "        vertical-align: middle;\n",
       "    }\n",
       "\n",
       "    .dataframe tbody tr th {\n",
       "        vertical-align: top;\n",
       "    }\n",
       "\n",
       "    .dataframe thead th {\n",
       "        text-align: right;\n",
       "    }\n",
       "</style>\n",
       "<table border=\"1\" class=\"dataframe\">\n",
       "  <thead>\n",
       "    <tr style=\"text-align: right;\">\n",
       "      <th></th>\n",
       "      <th>code</th>\n",
       "      <th>name_x</th>\n",
       "      <th>est_sum_total_est_x</th>\n",
       "      <th>est_sum_total_est_y</th>\n",
       "      <th>growth_rate</th>\n",
       "    </tr>\n",
       "  </thead>\n",
       "  <tbody>\n",
       "    <tr>\n",
       "      <th>1517</th>\n",
       "      <td>513404.0</td>\n",
       "      <td>خمين - اليگودرز</td>\n",
       "      <td>59695</td>\n",
       "      <td>3941.0</td>\n",
       "      <td>1414.717077</td>\n",
       "    </tr>\n",
       "    <tr>\n",
       "      <th>326</th>\n",
       "      <td>113413.0</td>\n",
       "      <td>آبعلي - پلور (سه‌راهي مشاء - امامزاده هاشم)</td>\n",
       "      <td>271647</td>\n",
       "      <td>45914.0</td>\n",
       "      <td>491.643072</td>\n",
       "    </tr>\n",
       "    <tr>\n",
       "      <th>2132</th>\n",
       "      <td>333151.0</td>\n",
       "      <td>بيرجند - سرايان (سرايان)</td>\n",
       "      <td>29268</td>\n",
       "      <td>5220.0</td>\n",
       "      <td>460.689655</td>\n",
       "    </tr>\n",
       "    <tr>\n",
       "      <th>1859</th>\n",
       "      <td>333158.0</td>\n",
       "      <td>عرب آباد - ديهوک</td>\n",
       "      <td>40222</td>\n",
       "      <td>7469.0</td>\n",
       "      <td>438.519213</td>\n",
       "    </tr>\n",
       "    <tr>\n",
       "      <th>13</th>\n",
       "      <td>113203.0</td>\n",
       "      <td>آزادراه تهران - قم (مجتمع ياس)</td>\n",
       "      <td>1056939</td>\n",
       "      <td>200733.0</td>\n",
       "      <td>426.539732</td>\n",
       "    </tr>\n",
       "    <tr>\n",
       "      <th>...</th>\n",
       "      <td>...</td>\n",
       "      <td>...</td>\n",
       "      <td>...</td>\n",
       "      <td>...</td>\n",
       "      <td>...</td>\n",
       "    </tr>\n",
       "    <tr>\n",
       "      <th>2628</th>\n",
       "      <td>933304.0</td>\n",
       "      <td>رباط پشت بادام - خور</td>\n",
       "      <td>1353</td>\n",
       "      <td>NaN</td>\n",
       "      <td>NaN</td>\n",
       "    </tr>\n",
       "    <tr>\n",
       "      <th>2629</th>\n",
       "      <td>673176.0</td>\n",
       "      <td>ماسوله - طارم (مرز استان)</td>\n",
       "      <td>1279</td>\n",
       "      <td>NaN</td>\n",
       "      <td>NaN</td>\n",
       "    </tr>\n",
       "    <tr>\n",
       "      <th>2630</th>\n",
       "      <td>933354.0</td>\n",
       "      <td>خور - رباط پشت بادام</td>\n",
       "      <td>917</td>\n",
       "      <td>NaN</td>\n",
       "      <td>NaN</td>\n",
       "    </tr>\n",
       "    <tr>\n",
       "      <th>2631</th>\n",
       "      <td>673126.0</td>\n",
       "      <td>طارم - ماسوله (مرز استان)</td>\n",
       "      <td>336</td>\n",
       "      <td>NaN</td>\n",
       "      <td>NaN</td>\n",
       "    </tr>\n",
       "    <tr>\n",
       "      <th>2635</th>\n",
       "      <td>163323.0</td>\n",
       "      <td>بابل - گنج افروز (جنب دوربين ثبت تخلف)</td>\n",
       "      <td>0</td>\n",
       "      <td>NaN</td>\n",
       "      <td>NaN</td>\n",
       "    </tr>\n",
       "  </tbody>\n",
       "</table>\n",
       "<p>2636 rows × 5 columns</p>\n",
       "</div>"
      ],
      "text/plain": [
       "          code                                       name_x  \\\n",
       "1517  513404.0                              خمين - اليگودرز   \n",
       "326   113413.0  آبعلي - پلور (سه‌راهي مشاء - امامزاده هاشم)   \n",
       "2132  333151.0                     بيرجند - سرايان (سرايان)   \n",
       "1859  333158.0                             عرب آباد - ديهوک   \n",
       "13    113203.0               آزادراه تهران - قم (مجتمع ياس)   \n",
       "...        ...                                          ...   \n",
       "2628  933304.0                         رباط پشت بادام - خور   \n",
       "2629  673176.0                    ماسوله - طارم (مرز استان)   \n",
       "2630  933354.0                         خور - رباط پشت بادام   \n",
       "2631  673126.0                    طارم - ماسوله (مرز استان)   \n",
       "2635  163323.0       بابل - گنج افروز (جنب دوربين ثبت تخلف)   \n",
       "\n",
       "      est_sum_total_est_x  est_sum_total_est_y  growth_rate  \n",
       "1517                59695               3941.0  1414.717077  \n",
       "326                271647              45914.0   491.643072  \n",
       "2132                29268               5220.0   460.689655  \n",
       "1859                40222               7469.0   438.519213  \n",
       "13                1056939             200733.0   426.539732  \n",
       "...                   ...                  ...          ...  \n",
       "2628                 1353                  NaN          NaN  \n",
       "2629                 1279                  NaN          NaN  \n",
       "2630                  917                  NaN          NaN  \n",
       "2631                  336                  NaN          NaN  \n",
       "2635                    0                  NaN          NaN  \n",
       "\n",
       "[2636 rows x 5 columns]"
      ]
     },
     "execution_count": 18,
     "metadata": {},
     "output_type": "execute_result"
    }
   ],
   "source": [
    "df02 = dfs[0]\n",
    "df03 = dfs[1]\n",
    "\n",
    "df = df03.merge(df02, on='code', how='left')\n",
    "df = df[df.columns.drop('name_y')]\n",
    "\n",
    "# df.apply(lambda row: row.est_sum_total_est_x + row.est_sum_total_est_y, axis=1)\n",
    "df['growth_rate'] = df.apply(lambda row: get_nerkh(row.est_sum_total_est_x, row.est_sum_total_est_y), axis=1)\n",
    "df = df.sort_values(by='growth_rate', ascending=False)\n",
    "df.to_csv(path + \"compared.csv\")\n",
    "df"
   ]
  },
  {
   "cell_type": "code",
   "execution_count": 23,
   "id": "357f648d",
   "metadata": {},
   "outputs": [
    {
     "data": {
      "application/vnd.plotly.v1+json": {
       "config": {
        "plotlyServerURL": "https://plot.ly"
       },
       "data": [
        {
         "alignmentgroup": "True",
         "boxpoints": "outliers",
         "hovertemplate": "growth_rate=%{x}<extra></extra>",
         "legendgroup": "",
         "marker": {
          "color": "#636efa"
         },
         "name": "",
         "notched": false,
         "offsetgroup": "",
         "orientation": "h",
         "showlegend": false,
         "type": "box",
         "x": {
          "bdata": "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",
          "dtype": "f8"
         },
         "x0": " ",
         "xaxis": "x",
         "y0": " ",
         "yaxis": "y"
        }
       ],
       "layout": {
        "boxmode": "group",
        "font": {
         "family": "Vazirmatn",
         "size": 16
        },
        "legend": {
         "tracegroupgap": 0
        },
        "template": {
         "data": {
          "bar": [
           {
            "error_x": {
             "color": "#2a3f5f"
            },
            "error_y": {
             "color": "#2a3f5f"
            },
            "marker": {
             "line": {
              "color": "#E5ECF6",
              "width": 0.5
             },
             "pattern": {
              "fillmode": "overlay",
              "size": 10,
              "solidity": 0.2
             }
            },
            "type": "bar"
           }
          ],
          "barpolar": [
           {
            "marker": {
             "line": {
              "color": "#E5ECF6",
              "width": 0.5
             },
             "pattern": {
              "fillmode": "overlay",
              "size": 10,
              "solidity": 0.2
             }
            },
            "type": "barpolar"
           }
          ],
          "carpet": [
           {
            "aaxis": {
             "endlinecolor": "#2a3f5f",
             "gridcolor": "white",
             "linecolor": "white",
             "minorgridcolor": "white",
             "startlinecolor": "#2a3f5f"
            },
            "baxis": {
             "endlinecolor": "#2a3f5f",
             "gridcolor": "white",
             "linecolor": "white",
             "minorgridcolor": "white",
             "startlinecolor": "#2a3f5f"
            },
            "type": "carpet"
           }
          ],
          "choropleth": [
           {
            "colorbar": {
             "outlinewidth": 0,
             "ticks": ""
            },
            "type": "choropleth"
           }
          ],
          "contour": [
           {
            "colorbar": {
             "outlinewidth": 0,
             "ticks": ""
            },
            "colorscale": [
             [
              0,
              "#0d0887"
             ],
             [
              0.1111111111111111,
              "#46039f"
             ],
             [
              0.2222222222222222,
              "#7201a8"
             ],
             [
              0.3333333333333333,
              "#9c179e"
             ],
             [
              0.4444444444444444,
              "#bd3786"
             ],
             [
              0.5555555555555556,
              "#d8576b"
             ],
             [
              0.6666666666666666,
              "#ed7953"
             ],
             [
              0.7777777777777778,
              "#fb9f3a"
             ],
             [
              0.8888888888888888,
              "#fdca26"
             ],
             [
              1,
              "#f0f921"
             ]
            ],
            "type": "contour"
           }
          ],
          "contourcarpet": [
           {
            "colorbar": {
             "outlinewidth": 0,
             "ticks": ""
            },
            "type": "contourcarpet"
           }
          ],
          "heatmap": [
           {
            "colorbar": {
             "outlinewidth": 0,
             "ticks": ""
            },
            "colorscale": [
             [
              0,
              "#0d0887"
             ],
             [
              0.1111111111111111,
              "#46039f"
             ],
             [
              0.2222222222222222,
              "#7201a8"
             ],
             [
              0.3333333333333333,
              "#9c179e"
             ],
             [
              0.4444444444444444,
              "#bd3786"
             ],
             [
              0.5555555555555556,
              "#d8576b"
             ],
             [
              0.6666666666666666,
              "#ed7953"
             ],
             [
              0.7777777777777778,
              "#fb9f3a"
             ],
             [
              0.8888888888888888,
              "#fdca26"
             ],
             [
              1,
              "#f0f921"
             ]
            ],
            "type": "heatmap"
           }
          ],
          "histogram": [
           {
            "marker": {
             "pattern": {
              "fillmode": "overlay",
              "size": 10,
              "solidity": 0.2
             }
            },
            "type": "histogram"
           }
          ],
          "histogram2d": [
           {
            "colorbar": {
             "outlinewidth": 0,
             "ticks": ""
            },
            "colorscale": [
             [
              0,
              "#0d0887"
             ],
             [
              0.1111111111111111,
              "#46039f"
             ],
             [
              0.2222222222222222,
              "#7201a8"
             ],
             [
              0.3333333333333333,
              "#9c179e"
             ],
             [
              0.4444444444444444,
              "#bd3786"
             ],
             [
              0.5555555555555556,
              "#d8576b"
             ],
             [
              0.6666666666666666,
              "#ed7953"
             ],
             [
              0.7777777777777778,
              "#fb9f3a"
             ],
             [
              0.8888888888888888,
              "#fdca26"
             ],
             [
              1,
              "#f0f921"
             ]
            ],
            "type": "histogram2d"
           }
          ],
          "histogram2dcontour": [
           {
            "colorbar": {
             "outlinewidth": 0,
             "ticks": ""
            },
            "colorscale": [
             [
              0,
              "#0d0887"
             ],
             [
              0.1111111111111111,
              "#46039f"
             ],
             [
              0.2222222222222222,
              "#7201a8"
             ],
             [
              0.3333333333333333,
              "#9c179e"
             ],
             [
              0.4444444444444444,
              "#bd3786"
             ],
             [
              0.5555555555555556,
              "#d8576b"
             ],
             [
              0.6666666666666666,
              "#ed7953"
             ],
             [
              0.7777777777777778,
              "#fb9f3a"
             ],
             [
              0.8888888888888888,
              "#fdca26"
             ],
             [
              1,
              "#f0f921"
             ]
            ],
            "type": "histogram2dcontour"
           }
          ],
          "mesh3d": [
           {
            "colorbar": {
             "outlinewidth": 0,
             "ticks": ""
            },
            "type": "mesh3d"
           }
          ],
          "parcoords": [
           {
            "line": {
             "colorbar": {
              "outlinewidth": 0,
              "ticks": ""
             }
            },
            "type": "parcoords"
           }
          ],
          "pie": [
           {
            "automargin": true,
            "type": "pie"
           }
          ],
          "scatter": [
           {
            "fillpattern": {
             "fillmode": "overlay",
             "size": 10,
             "solidity": 0.2
            },
            "type": "scatter"
           }
          ],
          "scatter3d": [
           {
            "line": {
             "colorbar": {
              "outlinewidth": 0,
              "ticks": ""
             }
            },
            "marker": {
             "colorbar": {
              "outlinewidth": 0,
              "ticks": ""
             }
            },
            "type": "scatter3d"
           }
          ],
          "scattercarpet": [
           {
            "marker": {
             "colorbar": {
              "outlinewidth": 0,
              "ticks": ""
             }
            },
            "type": "scattercarpet"
           }
          ],
          "scattergeo": [
           {
            "marker": {
             "colorbar": {
              "outlinewidth": 0,
              "ticks": ""
             }
            },
            "type": "scattergeo"
           }
          ],
          "scattergl": [
           {
            "marker": {
             "colorbar": {
              "outlinewidth": 0,
              "ticks": ""
             }
            },
            "type": "scattergl"
           }
          ],
          "scattermap": [
           {
            "marker": {
             "colorbar": {
              "outlinewidth": 0,
              "ticks": ""
             }
            },
            "type": "scattermap"
           }
          ],
          "scattermapbox": [
           {
            "marker": {
             "colorbar": {
              "outlinewidth": 0,
              "ticks": ""
             }
            },
            "type": "scattermapbox"
           }
          ],
          "scatterpolar": [
           {
            "marker": {
             "colorbar": {
              "outlinewidth": 0,
              "ticks": ""
             }
            },
            "type": "scatterpolar"
           }
          ],
          "scatterpolargl": [
           {
            "marker": {
             "colorbar": {
              "outlinewidth": 0,
              "ticks": ""
             }
            },
            "type": "scatterpolargl"
           }
          ],
          "scatterternary": [
           {
            "marker": {
             "colorbar": {
              "outlinewidth": 0,
              "ticks": ""
             }
            },
            "type": "scatterternary"
           }
          ],
          "surface": [
           {
            "colorbar": {
             "outlinewidth": 0,
             "ticks": ""
            },
            "colorscale": [
             [
              0,
              "#0d0887"
             ],
             [
              0.1111111111111111,
              "#46039f"
             ],
             [
              0.2222222222222222,
              "#7201a8"
             ],
             [
              0.3333333333333333,
              "#9c179e"
             ],
             [
              0.4444444444444444,
              "#bd3786"
             ],
             [
              0.5555555555555556,
              "#d8576b"
             ],
             [
              0.6666666666666666,
              "#ed7953"
             ],
             [
              0.7777777777777778,
              "#fb9f3a"
             ],
             [
              0.8888888888888888,
              "#fdca26"
             ],
             [
              1,
              "#f0f921"
             ]
            ],
            "type": "surface"
           }
          ],
          "table": [
           {
            "cells": {
             "fill": {
              "color": "#EBF0F8"
             },
             "line": {
              "color": "white"
             }
            },
            "header": {
             "fill": {
              "color": "#C8D4E3"
             },
             "line": {
              "color": "white"
             }
            },
            "type": "table"
           }
          ]
         },
         "layout": {
          "annotationdefaults": {
           "arrowcolor": "#2a3f5f",
           "arrowhead": 0,
           "arrowwidth": 1
          },
          "autotypenumbers": "strict",
          "coloraxis": {
           "colorbar": {
            "outlinewidth": 0,
            "ticks": ""
           }
          },
          "colorscale": {
           "diverging": [
            [
             0,
             "#8e0152"
            ],
            [
             0.1,
             "#c51b7d"
            ],
            [
             0.2,
             "#de77ae"
            ],
            [
             0.3,
             "#f1b6da"
            ],
            [
             0.4,
             "#fde0ef"
            ],
            [
             0.5,
             "#f7f7f7"
            ],
            [
             0.6,
             "#e6f5d0"
            ],
            [
             0.7,
             "#b8e186"
            ],
            [
             0.8,
             "#7fbc41"
            ],
            [
             0.9,
             "#4d9221"
            ],
            [
             1,
             "#276419"
            ]
           ],
           "sequential": [
            [
             0,
             "#0d0887"
            ],
            [
             0.1111111111111111,
             "#46039f"
            ],
            [
             0.2222222222222222,
             "#7201a8"
            ],
            [
             0.3333333333333333,
             "#9c179e"
            ],
            [
             0.4444444444444444,
             "#bd3786"
            ],
            [
             0.5555555555555556,
             "#d8576b"
            ],
            [
             0.6666666666666666,
             "#ed7953"
            ],
            [
             0.7777777777777778,
             "#fb9f3a"
            ],
            [
             0.8888888888888888,
             "#fdca26"
            ],
            [
             1,
             "#f0f921"
            ]
           ],
           "sequentialminus": [
            [
             0,
             "#0d0887"
            ],
            [
             0.1111111111111111,
             "#46039f"
            ],
            [
             0.2222222222222222,
             "#7201a8"
            ],
            [
             0.3333333333333333,
             "#9c179e"
            ],
            [
             0.4444444444444444,
             "#bd3786"
            ],
            [
             0.5555555555555556,
             "#d8576b"
            ],
            [
             0.6666666666666666,
             "#ed7953"
            ],
            [
             0.7777777777777778,
             "#fb9f3a"
            ],
            [
             0.8888888888888888,
             "#fdca26"
            ],
            [
             1,
             "#f0f921"
            ]
           ]
          },
          "colorway": [
           "#636efa",
           "#EF553B",
           "#00cc96",
           "#ab63fa",
           "#FFA15A",
           "#19d3f3",
           "#FF6692",
           "#B6E880",
           "#FF97FF",
           "#FECB52"
          ],
          "font": {
           "color": "#2a3f5f"
          },
          "geo": {
           "bgcolor": "white",
           "lakecolor": "white",
           "landcolor": "#E5ECF6",
           "showlakes": true,
           "showland": true,
           "subunitcolor": "white"
          },
          "hoverlabel": {
           "align": "left"
          },
          "hovermode": "closest",
          "mapbox": {
           "style": "light"
          },
          "paper_bgcolor": "white",
          "plot_bgcolor": "#E5ECF6",
          "polar": {
           "angularaxis": {
            "gridcolor": "white",
            "linecolor": "white",
            "ticks": ""
           },
           "bgcolor": "#E5ECF6",
           "radialaxis": {
            "gridcolor": "white",
            "linecolor": "white",
            "ticks": ""
           }
          },
          "scene": {
           "xaxis": {
            "backgroundcolor": "#E5ECF6",
            "gridcolor": "white",
            "gridwidth": 2,
            "linecolor": "white",
            "showbackground": true,
            "ticks": "",
            "zerolinecolor": "white"
           },
           "yaxis": {
            "backgroundcolor": "#E5ECF6",
            "gridcolor": "white",
            "gridwidth": 2,
            "linecolor": "white",
            "showbackground": true,
            "ticks": "",
            "zerolinecolor": "white"
           },
           "zaxis": {
            "backgroundcolor": "#E5ECF6",
            "gridcolor": "white",
            "gridwidth": 2,
            "linecolor": "white",
            "showbackground": true,
            "ticks": "",
            "zerolinecolor": "white"
           }
          },
          "shapedefaults": {
           "line": {
            "color": "#2a3f5f"
           }
          },
          "ternary": {
           "aaxis": {
            "gridcolor": "white",
            "linecolor": "white",
            "ticks": ""
           },
           "baxis": {
            "gridcolor": "white",
            "linecolor": "white",
            "ticks": ""
           },
           "bgcolor": "#E5ECF6",
           "caxis": {
            "gridcolor": "white",
            "linecolor": "white",
            "ticks": ""
           }
          },
          "title": {
           "x": 0.05
          },
          "xaxis": {
           "automargin": true,
           "gridcolor": "white",
           "linecolor": "white",
           "ticks": "",
           "title": {
            "standoff": 15
           },
           "zerolinecolor": "white",
           "zerolinewidth": 2
          },
          "yaxis": {
           "automargin": true,
           "gridcolor": "white",
           "linecolor": "white",
           "ticks": "",
           "title": {
            "standoff": 15
           },
           "zerolinecolor": "white",
           "zerolinewidth": 2
          }
         }
        },
        "title": {
         "text": "نمودار جعبه‌ای نرخ رشد تردد"
        },
        "xaxis": {
         "anchor": "y",
         "domain": [
          0,
          1
         ],
         "title": {
          "text": "نرخ رشد (%)"
         }
        },
        "yaxis": {
         "anchor": "x",
         "domain": [
          0,
          1
         ]
        }
       }
      }
     },
     "metadata": {},
     "output_type": "display_data"
    }
   ],
   "source": [
    "df_to_draw = df[abs(df['growth_rate']) <= 100]\n",
    "fig = px.box(df_to_draw, x='growth_rate', points='outliers', title='نمودار جعبه‌ای نرخ رشد تردد')\n",
    "fig.update_layout(\n",
    "    xaxis_title='نرخ رشد (%)',\n",
    "    font_family=\"Vazirmatn\",\n",
    "    font_size=16\n",
    ")\n",
    "fig.show()"
   ]
  },
  {
   "cell_type": "code",
   "execution_count": 35,
   "id": "7b8d998c",
   "metadata": {},
   "outputs": [],
   "source": [
    "def drawchart(num):\n",
    "    path = \"F:\\\\Regression Analysis\\\\RA_P1\\\\data\\\\traffic\\\\\"\n",
    "    base_path_1 = os.path.join(path, \"nowruz_02\")\n",
    "    file1 = os.path.join(base_path_1, f\"{num}.csv\")\n",
    "\n",
    "    base_path_2 = os.path.join(path, \"nowruz_03\")\n",
    "    file2 = os.path.join(base_path_2, f\"{num}.csv\")\n",
    "\n",
    "    # Read both files\n",
    "    df1 = pd.read_csv(file1)\n",
    "    df2 = pd.read_csv(file2)\n",
    "\n",
    "    # Optional: ensure date is string for consistent merging/sorting\n",
    "    df1['date'] = df1['date'].astype(str).str[5:].str.replace(\"01-\", \"13-\")\n",
    "    df2['date'] = df2['date'].astype(str).str[5:].str.replace(\"01-\", \"13-\")\n",
    "\n",
    "    # Trim unwanted dates\n",
    "    df1 = df1[(df1['date'] >= \"12-29\") & (df1['date'] <= \"13-13\")]\n",
    "    df2 = df2[(df2['date'] >= \"12-29\") & (df2['date'] <= \"13-13\")]\n",
    "\n",
    "    # Rename value columns to distinguish between the two\n",
    "    name1 = (df1['name'].iloc[0] + \"1402\")\n",
    "    name2 = (df2['name'].iloc[0] + \"1403\")\n",
    "    df1 = df1[['date', 'car_est']].rename(columns={'car_est': name1})\n",
    "    df2 = df2[['date', 'car_est']].rename(columns={'car_est': name2})\n",
    "\n",
    "    # Merge the two DataFrames on 'date'\n",
    "    merged = pd.merge(df1, df2, on='date', how='outer')\n",
    "\n",
    "    # Melt to long format for Plotly\n",
    "    df_long = merged.melt(id_vars='date', var_name='name', value_name='car_est')\n",
    "\n",
    "    # Plot\n",
    "    fig = px.line(\n",
    "        df_long,\n",
    "        x='date',\n",
    "        y='car_est',\n",
    "        color='name',\n",
    "        title='تعداد سواری در روز، نوروز ۱۴۰۲',\n",
    "        markers=False\n",
    "    )\n",
    "\n",
    "    fig.update_layout(\n",
    "        legend_title='نام محور',\n",
    "        xaxis_title='تاریخ',\n",
    "        xaxis_type='category',\n",
    "        yaxis_title='تعداد',\n",
    "        template='plotly_white',\n",
    "        hovermode='x unified',\n",
    "    )\n",
    "\n",
    "    fig.show()"
   ]
  },
  {
   "cell_type": "code",
   "execution_count": 36,
   "id": "4a7f7b3f",
   "metadata": {},
   "outputs": [
    {
     "data": {
      "application/vnd.plotly.v1+json": {
       "config": {
        "plotlyServerURL": "https://plot.ly"
       },
       "data": [
        {
         "hovertemplate": "name=آزادراه زرين شهر - اصفهان(فلاورجان)1402<br>date=%{x}<br>car_est=%{y}<extra></extra>",
         "legendgroup": "آزادراه زرين شهر - اصفهان(فلاورجان)1402",
         "line": {
          "color": "#636efa",
          "dash": "solid"
         },
         "marker": {
          "symbol": "circle"
         },
         "mode": "lines",
         "name": "آزادراه زرين شهر - اصفهان(فلاورجان)1402",
         "orientation": "v",
         "showlegend": true,
         "type": "scatter",
         "x": [
          "12-29",
          "13-01",
          "13-02",
          "13-03",
          "13-04",
          "13-05",
          "13-06",
          "13-07",
          "13-08",
          "13-09",
          "13-10",
          "13-11",
          "13-12",
          "13-13"
         ],
         "xaxis": "x",
         "y": {
          "bdata": "PZUAAIagAADWowAAQ6IAABuZAAAnqwAAEbMAAEq4AAAusgAASMAAAKHRAAApwQAA070AAJ+lAAA=",
          "dtype": "i4"
         },
         "yaxis": "y"
        },
        {
         "hovertemplate": "name=آزادراه زرين شهر - اصفهان(فلاورجان)1403<br>date=%{x}<br>car_est=%{y}<extra></extra>",
         "legendgroup": "آزادراه زرين شهر - اصفهان(فلاورجان)1403",
         "line": {
          "color": "#EF553B",
          "dash": "solid"
         },
         "marker": {
          "symbol": "circle"
         },
         "mode": "lines",
         "name": "آزادراه زرين شهر - اصفهان(فلاورجان)1403",
         "orientation": "v",
         "showlegend": true,
         "type": "scatter",
         "x": [
          "12-29",
          "13-01",
          "13-02",
          "13-03",
          "13-04",
          "13-05",
          "13-06",
          "13-07",
          "13-08",
          "13-09",
          "13-10",
          "13-11",
          "13-12",
          "13-13"
         ],
         "xaxis": "x",
         "y": {
          "bdata": "D3gAAC9pAAAhXgAA81wAABRkAABidgAAao8AADlyAADLYgAA1mMAAAqgAADdhAAAMoEAAP1+AAA=",
          "dtype": "i4"
         },
         "yaxis": "y"
        }
       ],
       "layout": {
        "hovermode": "x unified",
        "legend": {
         "title": {
          "text": "نام محور"
         },
         "tracegroupgap": 0
        },
        "template": {
         "data": {
          "bar": [
           {
            "error_x": {
             "color": "#2a3f5f"
            },
            "error_y": {
             "color": "#2a3f5f"
            },
            "marker": {
             "line": {
              "color": "white",
              "width": 0.5
             },
             "pattern": {
              "fillmode": "overlay",
              "size": 10,
              "solidity": 0.2
             }
            },
            "type": "bar"
           }
          ],
          "barpolar": [
           {
            "marker": {
             "line": {
              "color": "white",
              "width": 0.5
             },
             "pattern": {
              "fillmode": "overlay",
              "size": 10,
              "solidity": 0.2
             }
            },
            "type": "barpolar"
           }
          ],
          "carpet": [
           {
            "aaxis": {
             "endlinecolor": "#2a3f5f",
             "gridcolor": "#C8D4E3",
             "linecolor": "#C8D4E3",
             "minorgridcolor": "#C8D4E3",
             "startlinecolor": "#2a3f5f"
            },
            "baxis": {
             "endlinecolor": "#2a3f5f",
             "gridcolor": "#C8D4E3",
             "linecolor": "#C8D4E3",
             "minorgridcolor": "#C8D4E3",
             "startlinecolor": "#2a3f5f"
            },
            "type": "carpet"
           }
          ],
          "choropleth": [
           {
            "colorbar": {
             "outlinewidth": 0,
             "ticks": ""
            },
            "type": "choropleth"
           }
          ],
          "contour": [
           {
            "colorbar": {
             "outlinewidth": 0,
             "ticks": ""
            },
            "colorscale": [
             [
              0,
              "#0d0887"
             ],
             [
              0.1111111111111111,
              "#46039f"
             ],
             [
              0.2222222222222222,
              "#7201a8"
             ],
             [
              0.3333333333333333,
              "#9c179e"
             ],
             [
              0.4444444444444444,
              "#bd3786"
             ],
             [
              0.5555555555555556,
              "#d8576b"
             ],
             [
              0.6666666666666666,
              "#ed7953"
             ],
             [
              0.7777777777777778,
              "#fb9f3a"
             ],
             [
              0.8888888888888888,
              "#fdca26"
             ],
             [
              1,
              "#f0f921"
             ]
            ],
            "type": "contour"
           }
          ],
          "contourcarpet": [
           {
            "colorbar": {
             "outlinewidth": 0,
             "ticks": ""
            },
            "type": "contourcarpet"
           }
          ],
          "heatmap": [
           {
            "colorbar": {
             "outlinewidth": 0,
             "ticks": ""
            },
            "colorscale": [
             [
              0,
              "#0d0887"
             ],
             [
              0.1111111111111111,
              "#46039f"
             ],
             [
              0.2222222222222222,
              "#7201a8"
             ],
             [
              0.3333333333333333,
              "#9c179e"
             ],
             [
              0.4444444444444444,
              "#bd3786"
             ],
             [
              0.5555555555555556,
              "#d8576b"
             ],
             [
              0.6666666666666666,
              "#ed7953"
             ],
             [
              0.7777777777777778,
              "#fb9f3a"
             ],
             [
              0.8888888888888888,
              "#fdca26"
             ],
             [
              1,
              "#f0f921"
             ]
            ],
            "type": "heatmap"
           }
          ],
          "histogram": [
           {
            "marker": {
             "pattern": {
              "fillmode": "overlay",
              "size": 10,
              "solidity": 0.2
             }
            },
            "type": "histogram"
           }
          ],
          "histogram2d": [
           {
            "colorbar": {
             "outlinewidth": 0,
             "ticks": ""
            },
            "colorscale": [
             [
              0,
              "#0d0887"
             ],
             [
              0.1111111111111111,
              "#46039f"
             ],
             [
              0.2222222222222222,
              "#7201a8"
             ],
             [
              0.3333333333333333,
              "#9c179e"
             ],
             [
              0.4444444444444444,
              "#bd3786"
             ],
             [
              0.5555555555555556,
              "#d8576b"
             ],
             [
              0.6666666666666666,
              "#ed7953"
             ],
             [
              0.7777777777777778,
              "#fb9f3a"
             ],
             [
              0.8888888888888888,
              "#fdca26"
             ],
             [
              1,
              "#f0f921"
             ]
            ],
            "type": "histogram2d"
           }
          ],
          "histogram2dcontour": [
           {
            "colorbar": {
             "outlinewidth": 0,
             "ticks": ""
            },
            "colorscale": [
             [
              0,
              "#0d0887"
             ],
             [
              0.1111111111111111,
              "#46039f"
             ],
             [
              0.2222222222222222,
              "#7201a8"
             ],
             [
              0.3333333333333333,
              "#9c179e"
             ],
             [
              0.4444444444444444,
              "#bd3786"
             ],
             [
              0.5555555555555556,
              "#d8576b"
             ],
             [
              0.6666666666666666,
              "#ed7953"
             ],
             [
              0.7777777777777778,
              "#fb9f3a"
             ],
             [
              0.8888888888888888,
              "#fdca26"
             ],
             [
              1,
              "#f0f921"
             ]
            ],
            "type": "histogram2dcontour"
           }
          ],
          "mesh3d": [
           {
            "colorbar": {
             "outlinewidth": 0,
             "ticks": ""
            },
            "type": "mesh3d"
           }
          ],
          "parcoords": [
           {
            "line": {
             "colorbar": {
              "outlinewidth": 0,
              "ticks": ""
             }
            },
            "type": "parcoords"
           }
          ],
          "pie": [
           {
            "automargin": true,
            "type": "pie"
           }
          ],
          "scatter": [
           {
            "fillpattern": {
             "fillmode": "overlay",
             "size": 10,
             "solidity": 0.2
            },
            "type": "scatter"
           }
          ],
          "scatter3d": [
           {
            "line": {
             "colorbar": {
              "outlinewidth": 0,
              "ticks": ""
             }
            },
            "marker": {
             "colorbar": {
              "outlinewidth": 0,
              "ticks": ""
             }
            },
            "type": "scatter3d"
           }
          ],
          "scattercarpet": [
           {
            "marker": {
             "colorbar": {
              "outlinewidth": 0,
              "ticks": ""
             }
            },
            "type": "scattercarpet"
           }
          ],
          "scattergeo": [
           {
            "marker": {
             "colorbar": {
              "outlinewidth": 0,
              "ticks": ""
             }
            },
            "type": "scattergeo"
           }
          ],
          "scattergl": [
           {
            "marker": {
             "colorbar": {
              "outlinewidth": 0,
              "ticks": ""
             }
            },
            "type": "scattergl"
           }
          ],
          "scattermap": [
           {
            "marker": {
             "colorbar": {
              "outlinewidth": 0,
              "ticks": ""
             }
            },
            "type": "scattermap"
           }
          ],
          "scattermapbox": [
           {
            "marker": {
             "colorbar": {
              "outlinewidth": 0,
              "ticks": ""
             }
            },
            "type": "scattermapbox"
           }
          ],
          "scatterpolar": [
           {
            "marker": {
             "colorbar": {
              "outlinewidth": 0,
              "ticks": ""
             }
            },
            "type": "scatterpolar"
           }
          ],
          "scatterpolargl": [
           {
            "marker": {
             "colorbar": {
              "outlinewidth": 0,
              "ticks": ""
             }
            },
            "type": "scatterpolargl"
           }
          ],
          "scatterternary": [
           {
            "marker": {
             "colorbar": {
              "outlinewidth": 0,
              "ticks": ""
             }
            },
            "type": "scatterternary"
           }
          ],
          "surface": [
           {
            "colorbar": {
             "outlinewidth": 0,
             "ticks": ""
            },
            "colorscale": [
             [
              0,
              "#0d0887"
             ],
             [
              0.1111111111111111,
              "#46039f"
             ],
             [
              0.2222222222222222,
              "#7201a8"
             ],
             [
              0.3333333333333333,
              "#9c179e"
             ],
             [
              0.4444444444444444,
              "#bd3786"
             ],
             [
              0.5555555555555556,
              "#d8576b"
             ],
             [
              0.6666666666666666,
              "#ed7953"
             ],
             [
              0.7777777777777778,
              "#fb9f3a"
             ],
             [
              0.8888888888888888,
              "#fdca26"
             ],
             [
              1,
              "#f0f921"
             ]
            ],
            "type": "surface"
           }
          ],
          "table": [
           {
            "cells": {
             "fill": {
              "color": "#EBF0F8"
             },
             "line": {
              "color": "white"
             }
            },
            "header": {
             "fill": {
              "color": "#C8D4E3"
             },
             "line": {
              "color": "white"
             }
            },
            "type": "table"
           }
          ]
         },
         "layout": {
          "annotationdefaults": {
           "arrowcolor": "#2a3f5f",
           "arrowhead": 0,
           "arrowwidth": 1
          },
          "autotypenumbers": "strict",
          "coloraxis": {
           "colorbar": {
            "outlinewidth": 0,
            "ticks": ""
           }
          },
          "colorscale": {
           "diverging": [
            [
             0,
             "#8e0152"
            ],
            [
             0.1,
             "#c51b7d"
            ],
            [
             0.2,
             "#de77ae"
            ],
            [
             0.3,
             "#f1b6da"
            ],
            [
             0.4,
             "#fde0ef"
            ],
            [
             0.5,
             "#f7f7f7"
            ],
            [
             0.6,
             "#e6f5d0"
            ],
            [
             0.7,
             "#b8e186"
            ],
            [
             0.8,
             "#7fbc41"
            ],
            [
             0.9,
             "#4d9221"
            ],
            [
             1,
             "#276419"
            ]
           ],
           "sequential": [
            [
             0,
             "#0d0887"
            ],
            [
             0.1111111111111111,
             "#46039f"
            ],
            [
             0.2222222222222222,
             "#7201a8"
            ],
            [
             0.3333333333333333,
             "#9c179e"
            ],
            [
             0.4444444444444444,
             "#bd3786"
            ],
            [
             0.5555555555555556,
             "#d8576b"
            ],
            [
             0.6666666666666666,
             "#ed7953"
            ],
            [
             0.7777777777777778,
             "#fb9f3a"
            ],
            [
             0.8888888888888888,
             "#fdca26"
            ],
            [
             1,
             "#f0f921"
            ]
           ],
           "sequentialminus": [
            [
             0,
             "#0d0887"
            ],
            [
             0.1111111111111111,
             "#46039f"
            ],
            [
             0.2222222222222222,
             "#7201a8"
            ],
            [
             0.3333333333333333,
             "#9c179e"
            ],
            [
             0.4444444444444444,
             "#bd3786"
            ],
            [
             0.5555555555555556,
             "#d8576b"
            ],
            [
             0.6666666666666666,
             "#ed7953"
            ],
            [
             0.7777777777777778,
             "#fb9f3a"
            ],
            [
             0.8888888888888888,
             "#fdca26"
            ],
            [
             1,
             "#f0f921"
            ]
           ]
          },
          "colorway": [
           "#636efa",
           "#EF553B",
           "#00cc96",
           "#ab63fa",
           "#FFA15A",
           "#19d3f3",
           "#FF6692",
           "#B6E880",
           "#FF97FF",
           "#FECB52"
          ],
          "font": {
           "color": "#2a3f5f"
          },
          "geo": {
           "bgcolor": "white",
           "lakecolor": "white",
           "landcolor": "white",
           "showlakes": true,
           "showland": true,
           "subunitcolor": "#C8D4E3"
          },
          "hoverlabel": {
           "align": "left"
          },
          "hovermode": "closest",
          "mapbox": {
           "style": "light"
          },
          "paper_bgcolor": "white",
          "plot_bgcolor": "white",
          "polar": {
           "angularaxis": {
            "gridcolor": "#EBF0F8",
            "linecolor": "#EBF0F8",
            "ticks": ""
           },
           "bgcolor": "white",
           "radialaxis": {
            "gridcolor": "#EBF0F8",
            "linecolor": "#EBF0F8",
            "ticks": ""
           }
          },
          "scene": {
           "xaxis": {
            "backgroundcolor": "white",
            "gridcolor": "#DFE8F3",
            "gridwidth": 2,
            "linecolor": "#EBF0F8",
            "showbackground": true,
            "ticks": "",
            "zerolinecolor": "#EBF0F8"
           },
           "yaxis": {
            "backgroundcolor": "white",
            "gridcolor": "#DFE8F3",
            "gridwidth": 2,
            "linecolor": "#EBF0F8",
            "showbackground": true,
            "ticks": "",
            "zerolinecolor": "#EBF0F8"
           },
           "zaxis": {
            "backgroundcolor": "white",
            "gridcolor": "#DFE8F3",
            "gridwidth": 2,
            "linecolor": "#EBF0F8",
            "showbackground": true,
            "ticks": "",
            "zerolinecolor": "#EBF0F8"
           }
          },
          "shapedefaults": {
           "line": {
            "color": "#2a3f5f"
           }
          },
          "ternary": {
           "aaxis": {
            "gridcolor": "#DFE8F3",
            "linecolor": "#A2B1C6",
            "ticks": ""
           },
           "baxis": {
            "gridcolor": "#DFE8F3",
            "linecolor": "#A2B1C6",
            "ticks": ""
           },
           "bgcolor": "white",
           "caxis": {
            "gridcolor": "#DFE8F3",
            "linecolor": "#A2B1C6",
            "ticks": ""
           }
          },
          "title": {
           "x": 0.05
          },
          "xaxis": {
           "automargin": true,
           "gridcolor": "#EBF0F8",
           "linecolor": "#EBF0F8",
           "ticks": "",
           "title": {
            "standoff": 15
           },
           "zerolinecolor": "#EBF0F8",
           "zerolinewidth": 2
          },
          "yaxis": {
           "automargin": true,
           "gridcolor": "#EBF0F8",
           "linecolor": "#EBF0F8",
           "ticks": "",
           "title": {
            "standoff": 15
           },
           "zerolinecolor": "#EBF0F8",
           "zerolinewidth": 2
          }
         }
        },
        "title": {
         "text": "تعداد سواری در روز، نوروز ۱۴۰۲"
        },
        "xaxis": {
         "anchor": "y",
         "domain": [
          0,
          1
         ],
         "title": {
          "text": "تاریخ"
         },
         "type": "category"
        },
        "yaxis": {
         "anchor": "x",
         "domain": [
          0,
          1
         ],
         "title": {
          "text": "تعداد"
         }
        }
       }
      }
     },
     "metadata": {},
     "output_type": "display_data"
    }
   ],
   "source": [
    "drawchart(213163)"
   ]
  }
 ],
 "metadata": {
  "kernelspec": {
   "display_name": "Python 3",
   "language": "python",
   "name": "python3"
  },
  "language_info": {
   "codemirror_mode": {
    "name": "ipython",
    "version": 3
   },
   "file_extension": ".py",
   "mimetype": "text/x-python",
   "name": "python",
   "nbconvert_exporter": "python",
   "pygments_lexer": "ipython3",
   "version": "3.10.10"
  }
 },
 "nbformat": 4,
 "nbformat_minor": 5
}
