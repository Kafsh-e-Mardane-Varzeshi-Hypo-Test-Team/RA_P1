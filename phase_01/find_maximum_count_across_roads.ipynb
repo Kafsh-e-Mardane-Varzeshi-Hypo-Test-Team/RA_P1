{
 "cells": [
  {
   "cell_type": "code",
   "execution_count": 1,
   "id": "eeeafd05",
   "metadata": {},
   "outputs": [],
   "source": [
    "import pandas as pd\n",
    "import os"
   ]
  },
  {
   "cell_type": "code",
   "execution_count": 2,
   "id": "9210955d",
   "metadata": {},
   "outputs": [],
   "source": [
    "path = \"F:\\\\Regression Analysis\\\\RA_P1\\\\data\\\\traffic\\\\nowruz_03\\\\\""
   ]
  },
  {
   "cell_type": "code",
   "execution_count": 3,
   "id": "03f189dd",
   "metadata": {},
   "outputs": [],
   "source": [
    "files = os.listdir(path)\n",
    "dfs = [pd.read_csv(path + file, header=0) for file in files if not file.startswith('est')]"
   ]
  },
  {
   "cell_type": "code",
   "execution_count": 4,
   "id": "7aeb6536",
   "metadata": {},
   "outputs": [
    {
     "data": {
      "text/html": [
       "<div>\n",
       "<style scoped>\n",
       "    .dataframe tbody tr th:only-of-type {\n",
       "        vertical-align: middle;\n",
       "    }\n",
       "\n",
       "    .dataframe tbody tr th {\n",
       "        vertical-align: top;\n",
       "    }\n",
       "\n",
       "    .dataframe thead th {\n",
       "        text-align: right;\n",
       "    }\n",
       "</style>\n",
       "<table border=\"1\" class=\"dataframe\">\n",
       "  <thead>\n",
       "    <tr style=\"text-align: right;\">\n",
       "      <th></th>\n",
       "      <th>code</th>\n",
       "      <th>name</th>\n",
       "      <th>est_sum_total_est</th>\n",
       "    </tr>\n",
       "  </thead>\n",
       "  <tbody>\n",
       "    <tr>\n",
       "      <th>384</th>\n",
       "      <td>183151</td>\n",
       "      <td>آزادراه تهران - کرج (کيلومتر25)</td>\n",
       "      <td>5735311</td>\n",
       "    </tr>\n",
       "    <tr>\n",
       "      <th>371</th>\n",
       "      <td>183101</td>\n",
       "      <td>آزادراه کرج - تهران (کيلومتر25)</td>\n",
       "      <td>5487591</td>\n",
       "    </tr>\n",
       "    <tr>\n",
       "      <th>379</th>\n",
       "      <td>183117</td>\n",
       "      <td>آزادراه کرج - قزوين (ترمينال کلانتري)</td>\n",
       "      <td>5397188</td>\n",
       "    </tr>\n",
       "    <tr>\n",
       "      <th>393</th>\n",
       "      <td>183167</td>\n",
       "      <td>آزادراه قزوين - کرج (ترمينال کلانتري)</td>\n",
       "      <td>4903408</td>\n",
       "    </tr>\n",
       "    <tr>\n",
       "      <th>372</th>\n",
       "      <td>183102</td>\n",
       "      <td>آزادراه تهران - کرج (پل کلاک)</td>\n",
       "      <td>4779815</td>\n",
       "    </tr>\n",
       "    <tr>\n",
       "      <th>...</th>\n",
       "      <td>...</td>\n",
       "      <td>...</td>\n",
       "      <td>...</td>\n",
       "    </tr>\n",
       "    <tr>\n",
       "      <th>2463</th>\n",
       "      <td>933304</td>\n",
       "      <td>رباط پشت بادام - خور</td>\n",
       "      <td>3958</td>\n",
       "    </tr>\n",
       "    <tr>\n",
       "      <th>2466</th>\n",
       "      <td>933354</td>\n",
       "      <td>خور - رباط پشت بادام</td>\n",
       "      <td>2652</td>\n",
       "    </tr>\n",
       "    <tr>\n",
       "      <th>1749</th>\n",
       "      <td>673126</td>\n",
       "      <td>طارم - ماسوله (مرز استان)</td>\n",
       "      <td>1702</td>\n",
       "    </tr>\n",
       "    <tr>\n",
       "      <th>2262</th>\n",
       "      <td>833757</td>\n",
       "      <td>ترمينال برکت - مهران</td>\n",
       "      <td>630</td>\n",
       "    </tr>\n",
       "    <tr>\n",
       "      <th>2254</th>\n",
       "      <td>833707</td>\n",
       "      <td>مهران - ترمينال برکت</td>\n",
       "      <td>354</td>\n",
       "    </tr>\n",
       "  </tbody>\n",
       "</table>\n",
       "<p>2646 rows × 3 columns</p>\n",
       "</div>"
      ],
      "text/plain": [
       "        code                                   name  est_sum_total_est\n",
       "384   183151        آزادراه تهران - کرج (کيلومتر25)            5735311\n",
       "371   183101        آزادراه کرج - تهران (کيلومتر25)            5487591\n",
       "379   183117  آزادراه کرج - قزوين (ترمينال کلانتري)            5397188\n",
       "393   183167  آزادراه قزوين - کرج (ترمينال کلانتري)            4903408\n",
       "372   183102          آزادراه تهران - کرج (پل کلاک)            4779815\n",
       "...      ...                                    ...                ...\n",
       "2463  933304                   رباط پشت بادام - خور               3958\n",
       "2466  933354                   خور - رباط پشت بادام               2652\n",
       "1749  673126              طارم - ماسوله (مرز استان)               1702\n",
       "2262  833757                   ترمينال برکت - مهران                630\n",
       "2254  833707                   مهران - ترمينال برکت                354\n",
       "\n",
       "[2646 rows x 3 columns]"
      ]
     },
     "execution_count": 4,
     "metadata": {},
     "output_type": "execute_result"
    }
   ],
   "source": [
    "sum_of_total_est_of_all_roads = {}\n",
    "for i in range(len(dfs)):\n",
    "    df = dfs[i]\n",
    "    if len(df) == 0:\n",
    "        continue\n",
    "    sum_of_total_est_of_all_roads[i + 1] = {'code': df.code[0].astype(str), 'name': df.name[0], 'est_sum_total_est': (df.car_est.mean()*40).astype(int)}\n",
    "\n",
    "df = pd.DataFrame.from_dict(sum_of_total_est_of_all_roads, orient='index', columns=['code', 'name', 'est_sum_total_est'])\n",
    "df = df.sort_values(by=\"est_sum_total_est\", ascending = False)\n",
    "df.to_csv(path + \"est_sum_total_est_sorted.csv\", index=False)\n",
    "df"
   ]
  }
 ],
 "metadata": {
  "kernelspec": {
   "display_name": "Python 3",
   "language": "python",
   "name": "python3"
  },
  "language_info": {
   "codemirror_mode": {
    "name": "ipython",
    "version": 3
   },
   "file_extension": ".py",
   "mimetype": "text/x-python",
   "name": "python",
   "nbconvert_exporter": "python",
   "pygments_lexer": "ipython3",
   "version": "3.10.10"
  }
 },
 "nbformat": 4,
 "nbformat_minor": 5
}
