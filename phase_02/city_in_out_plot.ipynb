{
 "cells": [
  {
   "cell_type": "code",
   "execution_count": 1,
   "id": "96fa1f60",
   "metadata": {},
   "outputs": [],
   "source": [
    "import pandas as pd\n",
    "import numpy as np\n",
    "import os\n",
    "import plotly.express as px\n",
    "import plotly.graph_objects as go\n",
    "\n",
    "import jdatetime"
   ]
  },
  {
   "cell_type": "code",
   "execution_count": 4,
   "id": "79c2b2cf",
   "metadata": {},
   "outputs": [],
   "source": [
    "path = \"../data\"\n",
    "nowruz_path = os.path.join(path, \"traffic/nowruz_03\")"
   ]
  },
  {
   "cell_type": "code",
   "execution_count": 5,
   "id": "da44d53e",
   "metadata": {},
   "outputs": [
    {
     "data": {
      "text/html": [
       "<div>\n",
       "<style scoped>\n",
       "    .dataframe tbody tr th:only-of-type {\n",
       "        vertical-align: middle;\n",
       "    }\n",
       "\n",
       "    .dataframe tbody tr th {\n",
       "        vertical-align: top;\n",
       "    }\n",
       "\n",
       "    .dataframe thead th {\n",
       "        text-align: right;\n",
       "    }\n",
       "</style>\n",
       "<table border=\"1\" class=\"dataframe\">\n",
       "  <thead>\n",
       "    <tr style=\"text-align: right;\">\n",
       "      <th></th>\n",
       "      <th>code</th>\n",
       "      <th>name</th>\n",
       "      <th>date</th>\n",
       "      <th>duration</th>\n",
       "      <th>total_count</th>\n",
       "      <th>car_count</th>\n",
       "      <th>total_est</th>\n",
       "      <th>car_est</th>\n",
       "      <th>avg_speed</th>\n",
       "      <th>total_est_normal</th>\n",
       "    </tr>\n",
       "  </thead>\n",
       "  <tbody>\n",
       "    <tr>\n",
       "      <th>2</th>\n",
       "      <td>673703</td>\n",
       "      <td>خدابنده - بيجار (خورخوره)</td>\n",
       "      <td>1402-12-12</td>\n",
       "      <td>1440.0</td>\n",
       "      <td>3231.0</td>\n",
       "      <td>3069.0</td>\n",
       "      <td>3231.0</td>\n",
       "      <td>3069.0</td>\n",
       "      <td>47.0</td>\n",
       "      <td>-0.684694</td>\n",
       "    </tr>\n",
       "    <tr>\n",
       "      <th>100</th>\n",
       "      <td>873454</td>\n",
       "      <td>آزادراه گرمسار - قم (گرمسار) (متناظر توزين)</td>\n",
       "      <td>1403-01-01</td>\n",
       "      <td>1290.0</td>\n",
       "      <td>3321.0</td>\n",
       "      <td>3104.0</td>\n",
       "      <td>4101.0</td>\n",
       "      <td>3833.0</td>\n",
       "      <td>96.0</td>\n",
       "      <td>-0.837927</td>\n",
       "    </tr>\n",
       "    <tr>\n",
       "      <th>1400</th>\n",
       "      <td>753160</td>\n",
       "      <td>سه راهي روعان - سه راهي پايگاه نوژه</td>\n",
       "      <td>1402-12-19</td>\n",
       "      <td>1435.0</td>\n",
       "      <td>1366.0</td>\n",
       "      <td>1170.0</td>\n",
       "      <td>1939.0</td>\n",
       "      <td>1660.0</td>\n",
       "      <td>67.0</td>\n",
       "      <td>-3.189684</td>\n",
       "    </tr>\n",
       "    <tr>\n",
       "      <th>2700</th>\n",
       "      <td>773111</td>\n",
       "      <td>سورشجان - فارسان</td>\n",
       "      <td>1403-01-20</td>\n",
       "      <td>1440.0</td>\n",
       "      <td>10041.0</td>\n",
       "      <td>9284.0</td>\n",
       "      <td>10041.0</td>\n",
       "      <td>9284.0</td>\n",
       "      <td>83.0</td>\n",
       "      <td>0.205731</td>\n",
       "    </tr>\n",
       "  </tbody>\n",
       "</table>\n",
       "</div>"
      ],
      "text/plain": [
       "        code                                         name        date  \\\n",
       "2     673703                    خدابنده - بيجار (خورخوره)  1402-12-12   \n",
       "100   873454  آزادراه گرمسار - قم (گرمسار) (متناظر توزين)  1403-01-01   \n",
       "1400  753160          سه راهي روعان - سه راهي پايگاه نوژه  1402-12-19   \n",
       "2700  773111                             سورشجان - فارسان  1403-01-20   \n",
       "\n",
       "      duration  total_count  car_count  total_est  car_est  avg_speed  \\\n",
       "2       1440.0       3231.0     3069.0     3231.0   3069.0       47.0   \n",
       "100     1290.0       3321.0     3104.0     4101.0   3833.0       96.0   \n",
       "1400    1435.0       1366.0     1170.0     1939.0   1660.0       67.0   \n",
       "2700    1440.0      10041.0     9284.0    10041.0   9284.0       83.0   \n",
       "\n",
       "      total_est_normal  \n",
       "2            -0.684694  \n",
       "100          -0.837927  \n",
       "1400         -3.189684  \n",
       "2700          0.205731  "
      ]
     },
     "execution_count": 5,
     "metadata": {},
     "output_type": "execute_result"
    }
   ],
   "source": [
    "df = None\n",
    "for f in os.listdir(nowruz_path):\n",
    "    if f.endswith(\"csv\") and not f.startswith(\"est\"):\n",
    "        df_tmp = pd.read_csv(os.path.join(nowruz_path, f), header=0)\n",
    "        if len(df_tmp) != 0:\n",
    "            df = pd.concat([df, df_tmp], ignore_index=True)\n",
    "\n",
    "df['code'] = df['code'].astype(int).astype(str)\n",
    "df['date'] = df['date'].apply(lambda x: jdatetime.datetime.strptime(x, \"%Y-%m-%d\").date())\n",
    "df.loc[[2, 100, 1400, 2700]]"
   ]
  },
  {
   "cell_type": "code",
   "execution_count": 6,
   "id": "d0e9fc61",
   "metadata": {},
   "outputs": [
    {
     "data": {
      "text/html": [
       "<div>\n",
       "<style scoped>\n",
       "    .dataframe tbody tr th:only-of-type {\n",
       "        vertical-align: middle;\n",
       "    }\n",
       "\n",
       "    .dataframe tbody tr th {\n",
       "        vertical-align: top;\n",
       "    }\n",
       "\n",
       "    .dataframe thead th {\n",
       "        text-align: right;\n",
       "    }\n",
       "</style>\n",
       "<table border=\"1\" class=\"dataframe\">\n",
       "  <thead>\n",
       "    <tr style=\"text-align: right;\">\n",
       "      <th></th>\n",
       "      <th>code</th>\n",
       "      <th>type</th>\n",
       "      <th>origin</th>\n",
       "      <th>destination</th>\n",
       "      <th>place</th>\n",
       "    </tr>\n",
       "  </thead>\n",
       "  <tbody>\n",
       "    <tr>\n",
       "      <th>0</th>\n",
       "      <td>113201</td>\n",
       "      <td>آزادراه</td>\n",
       "      <td>قم</td>\n",
       "      <td>گرمسار</td>\n",
       "      <td>چرمشهر</td>\n",
       "    </tr>\n",
       "    <tr>\n",
       "      <th>1</th>\n",
       "      <td>113202</td>\n",
       "      <td>NaN</td>\n",
       "      <td>شهریار</td>\n",
       "      <td>کرج</td>\n",
       "      <td>هفت جوی</td>\n",
       "    </tr>\n",
       "    <tr>\n",
       "      <th>2</th>\n",
       "      <td>113203</td>\n",
       "      <td>آزادراه</td>\n",
       "      <td>تهران</td>\n",
       "      <td>قم</td>\n",
       "      <td>مجتمع یاس</td>\n",
       "    </tr>\n",
       "    <tr>\n",
       "      <th>3</th>\n",
       "      <td>113206</td>\n",
       "      <td>آزادراه</td>\n",
       "      <td>تهران</td>\n",
       "      <td>پردیس</td>\n",
       "      <td>عوارضی پردیس</td>\n",
       "    </tr>\n",
       "    <tr>\n",
       "      <th>4</th>\n",
       "      <td>113207</td>\n",
       "      <td>آزادراه</td>\n",
       "      <td>تهران</td>\n",
       "      <td>پردیس</td>\n",
       "      <td>بومهن</td>\n",
       "    </tr>\n",
       "  </tbody>\n",
       "</table>\n",
       "</div>"
      ],
      "text/plain": [
       "     code     type  origin destination         place\n",
       "0  113201  آزادراه      قم      گرمسار        چرمشهر\n",
       "1  113202      NaN  شهریار         کرج       هفت جوی\n",
       "2  113203  آزادراه   تهران          قم     مجتمع یاس\n",
       "3  113206  آزادراه   تهران       پردیس  عوارضی پردیس\n",
       "4  113207  آزادراه   تهران       پردیس         بومهن"
      ]
     },
     "execution_count": 6,
     "metadata": {},
     "output_type": "execute_result"
    }
   ],
   "source": [
    "roads_df = pd.read_csv(os.path.join(path, \"road_data.csv\"))\n",
    "roads_df['code'] = roads_df['code'].astype(str)\n",
    "roads_df.head()"
   ]
  },
  {
   "cell_type": "markdown",
   "id": "f06881ef",
   "metadata": {},
   "source": [
    "## Plot in and out"
   ]
  },
  {
   "cell_type": "code",
   "execution_count": 8,
   "id": "8aa4166b",
   "metadata": {},
   "outputs": [],
   "source": [
    "province_code = '11'\n",
    "city = 'تهران'"
   ]
  },
  {
   "cell_type": "code",
   "execution_count": 9,
   "id": "ade5ffed",
   "metadata": {},
   "outputs": [
    {
     "data": {
      "text/html": [
       "<div>\n",
       "<style scoped>\n",
       "    .dataframe tbody tr th:only-of-type {\n",
       "        vertical-align: middle;\n",
       "    }\n",
       "\n",
       "    .dataframe tbody tr th {\n",
       "        vertical-align: top;\n",
       "    }\n",
       "\n",
       "    .dataframe thead th {\n",
       "        text-align: right;\n",
       "    }\n",
       "</style>\n",
       "<table border=\"1\" class=\"dataframe\">\n",
       "  <thead>\n",
       "    <tr style=\"text-align: right;\">\n",
       "      <th></th>\n",
       "      <th>code</th>\n",
       "      <th>type</th>\n",
       "      <th>origin</th>\n",
       "      <th>destination</th>\n",
       "      <th>place</th>\n",
       "    </tr>\n",
       "  </thead>\n",
       "  <tbody>\n",
       "    <tr>\n",
       "      <th>2</th>\n",
       "      <td>113203</td>\n",
       "      <td>آزادراه</td>\n",
       "      <td>تهران</td>\n",
       "      <td>قم</td>\n",
       "      <td>مجتمع یاس</td>\n",
       "    </tr>\n",
       "    <tr>\n",
       "      <th>3</th>\n",
       "      <td>113206</td>\n",
       "      <td>آزادراه</td>\n",
       "      <td>تهران</td>\n",
       "      <td>پردیس</td>\n",
       "      <td>عوارضی پردیس</td>\n",
       "    </tr>\n",
       "    <tr>\n",
       "      <th>4</th>\n",
       "      <td>113207</td>\n",
       "      <td>آزادراه</td>\n",
       "      <td>تهران</td>\n",
       "      <td>پردیس</td>\n",
       "      <td>بومهن</td>\n",
       "    </tr>\n",
       "    <tr>\n",
       "      <th>5</th>\n",
       "      <td>113208</td>\n",
       "      <td>آزادراه</td>\n",
       "      <td>ساوه</td>\n",
       "      <td>تهران</td>\n",
       "      <td>رباط کریم-تهران</td>\n",
       "    </tr>\n",
       "    <tr>\n",
       "      <th>6</th>\n",
       "      <td>113209</td>\n",
       "      <td>NaN</td>\n",
       "      <td>تهران</td>\n",
       "      <td>پاکدشت</td>\n",
       "      <td>NaN</td>\n",
       "    </tr>\n",
       "    <tr>\n",
       "      <th>7</th>\n",
       "      <td>113210</td>\n",
       "      <td>آزادراه</td>\n",
       "      <td>تهران</td>\n",
       "      <td>قم</td>\n",
       "      <td>عوارضی تهران</td>\n",
       "    </tr>\n",
       "    <tr>\n",
       "      <th>8</th>\n",
       "      <td>113212</td>\n",
       "      <td>NaN</td>\n",
       "      <td>امام زاده داوود</td>\n",
       "      <td>تهران</td>\n",
       "      <td>NaN</td>\n",
       "    </tr>\n",
       "    <tr>\n",
       "      <th>9</th>\n",
       "      <td>113213</td>\n",
       "      <td>NaN</td>\n",
       "      <td>تهران</td>\n",
       "      <td>لواسانات</td>\n",
       "      <td>طلائیه</td>\n",
       "    </tr>\n",
       "    <tr>\n",
       "      <th>10</th>\n",
       "      <td>113214</td>\n",
       "      <td>NaN</td>\n",
       "      <td>تهران</td>\n",
       "      <td>لواسانات</td>\n",
       "      <td>سوهانک</td>\n",
       "    </tr>\n",
       "    <tr>\n",
       "      <th>11</th>\n",
       "      <td>113228</td>\n",
       "      <td>آزادراه</td>\n",
       "      <td>تهران</td>\n",
       "      <td>ساوه</td>\n",
       "      <td>پرند</td>\n",
       "    </tr>\n",
       "    <tr>\n",
       "      <th>12</th>\n",
       "      <td>113229</td>\n",
       "      <td>جاده قدیم</td>\n",
       "      <td>تهران</td>\n",
       "      <td>قم</td>\n",
       "      <td>حسن آباد) (متناظر توزین</td>\n",
       "    </tr>\n",
       "    <tr>\n",
       "      <th>13</th>\n",
       "      <td>113243</td>\n",
       "      <td>جاده قدیم</td>\n",
       "      <td>تهران</td>\n",
       "      <td>قم</td>\n",
       "      <td>حسن‌آباد - نعلبندان</td>\n",
       "    </tr>\n",
       "    <tr>\n",
       "      <th>14</th>\n",
       "      <td>113249</td>\n",
       "      <td>آزادراه</td>\n",
       "      <td>تهران</td>\n",
       "      <td>شمال</td>\n",
       "      <td>قطعه اول - محدوده عوارضی تهران</td>\n",
       "    </tr>\n",
       "    <tr>\n",
       "      <th>17</th>\n",
       "      <td>113253</td>\n",
       "      <td>آزادراه</td>\n",
       "      <td>قم</td>\n",
       "      <td>تهران</td>\n",
       "      <td>مجتمع یاس</td>\n",
       "    </tr>\n",
       "    <tr>\n",
       "      <th>18</th>\n",
       "      <td>113256</td>\n",
       "      <td>آزادراه</td>\n",
       "      <td>پردیس</td>\n",
       "      <td>تهران</td>\n",
       "      <td>عوارضی پردیس</td>\n",
       "    </tr>\n",
       "    <tr>\n",
       "      <th>19</th>\n",
       "      <td>113257</td>\n",
       "      <td>آزادراه</td>\n",
       "      <td>پردیس</td>\n",
       "      <td>تهران</td>\n",
       "      <td>بومهن</td>\n",
       "    </tr>\n",
       "    <tr>\n",
       "      <th>20</th>\n",
       "      <td>113258</td>\n",
       "      <td>آزادراه</td>\n",
       "      <td>تهران</td>\n",
       "      <td>ساوه</td>\n",
       "      <td>تهران-رباط کریم</td>\n",
       "    </tr>\n",
       "    <tr>\n",
       "      <th>21</th>\n",
       "      <td>113259</td>\n",
       "      <td>NaN</td>\n",
       "      <td>پاکدشت</td>\n",
       "      <td>تهران</td>\n",
       "      <td>NaN</td>\n",
       "    </tr>\n",
       "    <tr>\n",
       "      <th>22</th>\n",
       "      <td>113260</td>\n",
       "      <td>آزادراه</td>\n",
       "      <td>قم</td>\n",
       "      <td>تهران</td>\n",
       "      <td>عوارضی تهران</td>\n",
       "    </tr>\n",
       "    <tr>\n",
       "      <th>23</th>\n",
       "      <td>113262</td>\n",
       "      <td>NaN</td>\n",
       "      <td>تهران</td>\n",
       "      <td>امام زاده داوود</td>\n",
       "      <td>NaN</td>\n",
       "    </tr>\n",
       "    <tr>\n",
       "      <th>24</th>\n",
       "      <td>113263</td>\n",
       "      <td>NaN</td>\n",
       "      <td>لواسانات</td>\n",
       "      <td>تهران</td>\n",
       "      <td>طلائیه</td>\n",
       "    </tr>\n",
       "    <tr>\n",
       "      <th>25</th>\n",
       "      <td>113264</td>\n",
       "      <td>NaN</td>\n",
       "      <td>لواسانات</td>\n",
       "      <td>تهران</td>\n",
       "      <td>سوهانک</td>\n",
       "    </tr>\n",
       "    <tr>\n",
       "      <th>26</th>\n",
       "      <td>113278</td>\n",
       "      <td>آزادراه</td>\n",
       "      <td>ساوه</td>\n",
       "      <td>تهران</td>\n",
       "      <td>پرند</td>\n",
       "    </tr>\n",
       "    <tr>\n",
       "      <th>27</th>\n",
       "      <td>113293</td>\n",
       "      <td>جاده قدیم</td>\n",
       "      <td>قم</td>\n",
       "      <td>تهران</td>\n",
       "      <td>نعلبندان - حسن‌آباد</td>\n",
       "    </tr>\n",
       "    <tr>\n",
       "      <th>28</th>\n",
       "      <td>113299</td>\n",
       "      <td>آزادراه</td>\n",
       "      <td>شمال</td>\n",
       "      <td>تهران</td>\n",
       "      <td>قطعه اول - محدوده عواضی تهران</td>\n",
       "    </tr>\n",
       "    <tr>\n",
       "      <th>30</th>\n",
       "      <td>113341</td>\n",
       "      <td>آزادراه</td>\n",
       "      <td>تهران</td>\n",
       "      <td>شمال</td>\n",
       "      <td>قطعه اول - بعد از تونل 12</td>\n",
       "    </tr>\n",
       "    <tr>\n",
       "      <th>33</th>\n",
       "      <td>113391</td>\n",
       "      <td>آزادراه</td>\n",
       "      <td>شمال</td>\n",
       "      <td>تهران</td>\n",
       "      <td>قطعه اول - بعد از تونل 12</td>\n",
       "    </tr>\n",
       "    <tr>\n",
       "      <th>59</th>\n",
       "      <td>113478</td>\n",
       "      <td>جاده</td>\n",
       "      <td>مخصوص کرج</td>\n",
       "      <td>تهران</td>\n",
       "      <td>وردآورد</td>\n",
       "    </tr>\n",
       "    <tr>\n",
       "      <th>66</th>\n",
       "      <td>113604</td>\n",
       "      <td>آزادراه</td>\n",
       "      <td>تهران</td>\n",
       "      <td>قم</td>\n",
       "      <td>بین فرودگاه و حسن آباد</td>\n",
       "    </tr>\n",
       "    <tr>\n",
       "      <th>67</th>\n",
       "      <td>113612</td>\n",
       "      <td>عوارضی</td>\n",
       "      <td>آزادراه قم</td>\n",
       "      <td>تهران</td>\n",
       "      <td>بهشت زهرا)(مجموع گیت ها</td>\n",
       "    </tr>\n",
       "    <tr>\n",
       "      <th>70</th>\n",
       "      <td>113654</td>\n",
       "      <td>آزادراه</td>\n",
       "      <td>قم</td>\n",
       "      <td>تهران</td>\n",
       "      <td>بین فرودگاه و حسن آباد</td>\n",
       "    </tr>\n",
       "    <tr>\n",
       "      <th>75</th>\n",
       "      <td>113805</td>\n",
       "      <td>NaN</td>\n",
       "      <td>تهران</td>\n",
       "      <td>لواسانات</td>\n",
       "      <td>تلو</td>\n",
       "    </tr>\n",
       "    <tr>\n",
       "      <th>77</th>\n",
       "      <td>113813</td>\n",
       "      <td>NaN</td>\n",
       "      <td>تهران</td>\n",
       "      <td>جاجرود</td>\n",
       "      <td>متناظر توزین</td>\n",
       "    </tr>\n",
       "    <tr>\n",
       "      <th>81</th>\n",
       "      <td>113855</td>\n",
       "      <td>NaN</td>\n",
       "      <td>لواسانات</td>\n",
       "      <td>تهران</td>\n",
       "      <td>تلو</td>\n",
       "    </tr>\n",
       "    <tr>\n",
       "      <th>82</th>\n",
       "      <td>113860</td>\n",
       "      <td>عوارضی</td>\n",
       "      <td>آزادراه پردیس</td>\n",
       "      <td>تهران</td>\n",
       "      <td>فاز11) (مجموع گیت ها</td>\n",
       "    </tr>\n",
       "    <tr>\n",
       "      <th>83</th>\n",
       "      <td>113863</td>\n",
       "      <td>NaN</td>\n",
       "      <td>جاجرود</td>\n",
       "      <td>تهران</td>\n",
       "      <td>NaN</td>\n",
       "    </tr>\n",
       "    <tr>\n",
       "      <th>85</th>\n",
       "      <td>113903</td>\n",
       "      <td>NaN</td>\n",
       "      <td>تهران</td>\n",
       "      <td>شهریار</td>\n",
       "      <td>باغستان</td>\n",
       "    </tr>\n",
       "    <tr>\n",
       "      <th>86</th>\n",
       "      <td>113904</td>\n",
       "      <td>NaN</td>\n",
       "      <td>تهران</td>\n",
       "      <td>شهریار</td>\n",
       "      <td>شهر قدس</td>\n",
       "    </tr>\n",
       "    <tr>\n",
       "      <th>88</th>\n",
       "      <td>113953</td>\n",
       "      <td>NaN</td>\n",
       "      <td>شهریار</td>\n",
       "      <td>تهران</td>\n",
       "      <td>باغستان</td>\n",
       "    </tr>\n",
       "    <tr>\n",
       "      <th>89</th>\n",
       "      <td>113954</td>\n",
       "      <td>NaN</td>\n",
       "      <td>شهریار</td>\n",
       "      <td>تهران</td>\n",
       "      <td>شهر قدس</td>\n",
       "    </tr>\n",
       "    <tr>\n",
       "      <th>91</th>\n",
       "      <td>114101</td>\n",
       "      <td>NaN</td>\n",
       "      <td>تهران</td>\n",
       "      <td>حسن آباد</td>\n",
       "      <td>جاده قدیم قم</td>\n",
       "    </tr>\n",
       "    <tr>\n",
       "      <th>92</th>\n",
       "      <td>114102</td>\n",
       "      <td>جاده قدیم</td>\n",
       "      <td>تهران</td>\n",
       "      <td>ساوه</td>\n",
       "      <td>رباط‌کریم - پرند</td>\n",
       "    </tr>\n",
       "    <tr>\n",
       "      <th>94</th>\n",
       "      <td>114110</td>\n",
       "      <td>عوارضی</td>\n",
       "      <td>آزادراه ساوه</td>\n",
       "      <td>تهران</td>\n",
       "      <td>تهران)(مجموع گیت ها</td>\n",
       "    </tr>\n",
       "    <tr>\n",
       "      <th>95</th>\n",
       "      <td>114152</td>\n",
       "      <td>جاده قدیم</td>\n",
       "      <td>ساوه</td>\n",
       "      <td>تهران</td>\n",
       "      <td>پرند - رباط‌کریم</td>\n",
       "    </tr>\n",
       "    <tr>\n",
       "      <th>98</th>\n",
       "      <td>114206</td>\n",
       "      <td>NaN</td>\n",
       "      <td>تهران</td>\n",
       "      <td>وردآورد</td>\n",
       "      <td>همت</td>\n",
       "    </tr>\n",
       "    <tr>\n",
       "      <th>99</th>\n",
       "      <td>114256</td>\n",
       "      <td>NaN</td>\n",
       "      <td>وردآورد</td>\n",
       "      <td>تهران</td>\n",
       "      <td>همت</td>\n",
       "    </tr>\n",
       "    <tr>\n",
       "      <th>116</th>\n",
       "      <td>114501</td>\n",
       "      <td>آزادراه</td>\n",
       "      <td>تهران</td>\n",
       "      <td>کرج</td>\n",
       "      <td>عوارضی قدیم</td>\n",
       "    </tr>\n",
       "    <tr>\n",
       "      <th>117</th>\n",
       "      <td>114551</td>\n",
       "      <td>آزادراه</td>\n",
       "      <td>کرج</td>\n",
       "      <td>تهران</td>\n",
       "      <td>عوارضی قدیم</td>\n",
       "    </tr>\n",
       "  </tbody>\n",
       "</table>\n",
       "</div>"
      ],
      "text/plain": [
       "       code       type           origin      destination  \\\n",
       "2    113203    آزادراه            تهران               قم   \n",
       "3    113206    آزادراه            تهران            پردیس   \n",
       "4    113207    آزادراه            تهران            پردیس   \n",
       "5    113208    آزادراه             ساوه            تهران   \n",
       "6    113209        NaN            تهران           پاکدشت   \n",
       "7    113210    آزادراه            تهران               قم   \n",
       "8    113212        NaN  امام زاده داوود            تهران   \n",
       "9    113213        NaN            تهران         لواسانات   \n",
       "10   113214        NaN            تهران         لواسانات   \n",
       "11   113228    آزادراه            تهران             ساوه   \n",
       "12   113229  جاده قدیم            تهران               قم   \n",
       "13   113243  جاده قدیم            تهران               قم   \n",
       "14   113249    آزادراه            تهران             شمال   \n",
       "17   113253    آزادراه               قم            تهران   \n",
       "18   113256    آزادراه            پردیس            تهران   \n",
       "19   113257    آزادراه            پردیس            تهران   \n",
       "20   113258    آزادراه            تهران             ساوه   \n",
       "21   113259        NaN           پاکدشت            تهران   \n",
       "22   113260    آزادراه               قم            تهران   \n",
       "23   113262        NaN            تهران  امام زاده داوود   \n",
       "24   113263        NaN         لواسانات            تهران   \n",
       "25   113264        NaN         لواسانات            تهران   \n",
       "26   113278    آزادراه             ساوه            تهران   \n",
       "27   113293  جاده قدیم               قم            تهران   \n",
       "28   113299    آزادراه             شمال            تهران   \n",
       "30   113341    آزادراه            تهران             شمال   \n",
       "33   113391    آزادراه             شمال            تهران   \n",
       "59   113478       جاده        مخصوص کرج            تهران   \n",
       "66   113604    آزادراه            تهران               قم   \n",
       "67   113612     عوارضی       آزادراه قم            تهران   \n",
       "70   113654    آزادراه               قم            تهران   \n",
       "75   113805        NaN            تهران         لواسانات   \n",
       "77   113813        NaN            تهران           جاجرود   \n",
       "81   113855        NaN         لواسانات            تهران   \n",
       "82   113860     عوارضی    آزادراه پردیس            تهران   \n",
       "83   113863        NaN           جاجرود            تهران   \n",
       "85   113903        NaN            تهران           شهریار   \n",
       "86   113904        NaN            تهران           شهریار   \n",
       "88   113953        NaN           شهریار            تهران   \n",
       "89   113954        NaN           شهریار            تهران   \n",
       "91   114101        NaN            تهران         حسن آباد   \n",
       "92   114102  جاده قدیم            تهران             ساوه   \n",
       "94   114110     عوارضی     آزادراه ساوه            تهران   \n",
       "95   114152  جاده قدیم             ساوه            تهران   \n",
       "98   114206        NaN            تهران          وردآورد   \n",
       "99   114256        NaN          وردآورد            تهران   \n",
       "116  114501    آزادراه            تهران              کرج   \n",
       "117  114551    آزادراه              کرج            تهران   \n",
       "\n",
       "                              place  \n",
       "2                         مجتمع یاس  \n",
       "3                      عوارضی پردیس  \n",
       "4                             بومهن  \n",
       "5                   رباط کریم-تهران  \n",
       "6                               NaN  \n",
       "7                      عوارضی تهران  \n",
       "8                               NaN  \n",
       "9                            طلائیه  \n",
       "10                           سوهانک  \n",
       "11                             پرند  \n",
       "12          حسن آباد) (متناظر توزین  \n",
       "13              حسن‌آباد - نعلبندان  \n",
       "14   قطعه اول - محدوده عوارضی تهران  \n",
       "17                        مجتمع یاس  \n",
       "18                     عوارضی پردیس  \n",
       "19                            بومهن  \n",
       "20                  تهران-رباط کریم  \n",
       "21                              NaN  \n",
       "22                     عوارضی تهران  \n",
       "23                              NaN  \n",
       "24                           طلائیه  \n",
       "25                           سوهانک  \n",
       "26                             پرند  \n",
       "27              نعلبندان - حسن‌آباد  \n",
       "28    قطعه اول - محدوده عواضی تهران  \n",
       "30        قطعه اول - بعد از تونل 12  \n",
       "33        قطعه اول - بعد از تونل 12  \n",
       "59                          وردآورد  \n",
       "66           بین فرودگاه و حسن آباد  \n",
       "67          بهشت زهرا)(مجموع گیت ها  \n",
       "70           بین فرودگاه و حسن آباد  \n",
       "75                              تلو  \n",
       "77                     متناظر توزین  \n",
       "81                              تلو  \n",
       "82             فاز11) (مجموع گیت ها  \n",
       "83                              NaN  \n",
       "85                          باغستان  \n",
       "86                          شهر قدس  \n",
       "88                          باغستان  \n",
       "89                          شهر قدس  \n",
       "91                     جاده قدیم قم  \n",
       "92                 رباط‌کریم - پرند  \n",
       "94              تهران)(مجموع گیت ها  \n",
       "95                 پرند - رباط‌کریم  \n",
       "98                              همت  \n",
       "99                              همت  \n",
       "116                     عوارضی قدیم  \n",
       "117                     عوارضی قدیم  "
      ]
     },
     "execution_count": 9,
     "metadata": {},
     "output_type": "execute_result"
    }
   ],
   "source": [
    "city_roads_df = roads_df.loc[roads_df['code'].str.startswith(province_code) & ((roads_df['origin'] == city) | (roads_df['destination'] == city))]\n",
    "city_roads_df"
   ]
  },
  {
   "cell_type": "code",
   "execution_count": 10,
   "id": "e7b460f3",
   "metadata": {},
   "outputs": [
    {
     "data": {
      "text/html": [
       "<div>\n",
       "<style scoped>\n",
       "    .dataframe tbody tr th:only-of-type {\n",
       "        vertical-align: middle;\n",
       "    }\n",
       "\n",
       "    .dataframe tbody tr th {\n",
       "        vertical-align: top;\n",
       "    }\n",
       "\n",
       "    .dataframe thead th {\n",
       "        text-align: right;\n",
       "    }\n",
       "</style>\n",
       "<table border=\"1\" class=\"dataframe\">\n",
       "  <thead>\n",
       "    <tr style=\"text-align: right;\">\n",
       "      <th></th>\n",
       "      <th>code</th>\n",
       "      <th>type</th>\n",
       "      <th>origin</th>\n",
       "      <th>destination</th>\n",
       "      <th>place</th>\n",
       "    </tr>\n",
       "  </thead>\n",
       "  <tbody>\n",
       "    <tr>\n",
       "      <th>2</th>\n",
       "      <td>113203</td>\n",
       "      <td>آزادراه</td>\n",
       "      <td>تهران</td>\n",
       "      <td>قم</td>\n",
       "      <td>مجتمع یاس</td>\n",
       "    </tr>\n",
       "    <tr>\n",
       "      <th>3</th>\n",
       "      <td>113206</td>\n",
       "      <td>آزادراه</td>\n",
       "      <td>تهران</td>\n",
       "      <td>پردیس</td>\n",
       "      <td>عوارضی پردیس</td>\n",
       "    </tr>\n",
       "    <tr>\n",
       "      <th>4</th>\n",
       "      <td>113207</td>\n",
       "      <td>آزادراه</td>\n",
       "      <td>تهران</td>\n",
       "      <td>پردیس</td>\n",
       "      <td>بومهن</td>\n",
       "    </tr>\n",
       "    <tr>\n",
       "      <th>5</th>\n",
       "      <td>113208</td>\n",
       "      <td>آزادراه</td>\n",
       "      <td>ساوه</td>\n",
       "      <td>تهران</td>\n",
       "      <td>رباط کریم-تهران</td>\n",
       "    </tr>\n",
       "    <tr>\n",
       "      <th>6</th>\n",
       "      <td>113209</td>\n",
       "      <td>NaN</td>\n",
       "      <td>تهران</td>\n",
       "      <td>پاکدشت</td>\n",
       "      <td>NaN</td>\n",
       "    </tr>\n",
       "    <tr>\n",
       "      <th>7</th>\n",
       "      <td>113210</td>\n",
       "      <td>آزادراه</td>\n",
       "      <td>تهران</td>\n",
       "      <td>قم</td>\n",
       "      <td>عوارضی تهران</td>\n",
       "    </tr>\n",
       "    <tr>\n",
       "      <th>8</th>\n",
       "      <td>113212</td>\n",
       "      <td>NaN</td>\n",
       "      <td>امام زاده داوود</td>\n",
       "      <td>تهران</td>\n",
       "      <td>NaN</td>\n",
       "    </tr>\n",
       "    <tr>\n",
       "      <th>9</th>\n",
       "      <td>113213</td>\n",
       "      <td>NaN</td>\n",
       "      <td>تهران</td>\n",
       "      <td>لواسانات</td>\n",
       "      <td>طلائیه</td>\n",
       "    </tr>\n",
       "    <tr>\n",
       "      <th>10</th>\n",
       "      <td>113214</td>\n",
       "      <td>NaN</td>\n",
       "      <td>تهران</td>\n",
       "      <td>لواسانات</td>\n",
       "      <td>سوهانک</td>\n",
       "    </tr>\n",
       "    <tr>\n",
       "      <th>11</th>\n",
       "      <td>113228</td>\n",
       "      <td>آزادراه</td>\n",
       "      <td>تهران</td>\n",
       "      <td>ساوه</td>\n",
       "      <td>پرند</td>\n",
       "    </tr>\n",
       "    <tr>\n",
       "      <th>12</th>\n",
       "      <td>113229</td>\n",
       "      <td>جاده قدیم</td>\n",
       "      <td>تهران</td>\n",
       "      <td>قم</td>\n",
       "      <td>حسن آباد) (متناظر توزین</td>\n",
       "    </tr>\n",
       "    <tr>\n",
       "      <th>13</th>\n",
       "      <td>113243</td>\n",
       "      <td>جاده قدیم</td>\n",
       "      <td>تهران</td>\n",
       "      <td>قم</td>\n",
       "      <td>حسن‌آباد - نعلبندان</td>\n",
       "    </tr>\n",
       "    <tr>\n",
       "      <th>14</th>\n",
       "      <td>113249</td>\n",
       "      <td>آزادراه</td>\n",
       "      <td>تهران</td>\n",
       "      <td>شمال</td>\n",
       "      <td>قطعه اول - محدوده عوارضی تهران</td>\n",
       "    </tr>\n",
       "    <tr>\n",
       "      <th>17</th>\n",
       "      <td>113253</td>\n",
       "      <td>آزادراه</td>\n",
       "      <td>قم</td>\n",
       "      <td>تهران</td>\n",
       "      <td>مجتمع یاس</td>\n",
       "    </tr>\n",
       "    <tr>\n",
       "      <th>18</th>\n",
       "      <td>113256</td>\n",
       "      <td>آزادراه</td>\n",
       "      <td>پردیس</td>\n",
       "      <td>تهران</td>\n",
       "      <td>عوارضی پردیس</td>\n",
       "    </tr>\n",
       "    <tr>\n",
       "      <th>19</th>\n",
       "      <td>113257</td>\n",
       "      <td>آزادراه</td>\n",
       "      <td>پردیس</td>\n",
       "      <td>تهران</td>\n",
       "      <td>بومهن</td>\n",
       "    </tr>\n",
       "    <tr>\n",
       "      <th>20</th>\n",
       "      <td>113258</td>\n",
       "      <td>آزادراه</td>\n",
       "      <td>تهران</td>\n",
       "      <td>ساوه</td>\n",
       "      <td>تهران-رباط کریم</td>\n",
       "    </tr>\n",
       "    <tr>\n",
       "      <th>21</th>\n",
       "      <td>113259</td>\n",
       "      <td>NaN</td>\n",
       "      <td>پاکدشت</td>\n",
       "      <td>تهران</td>\n",
       "      <td>NaN</td>\n",
       "    </tr>\n",
       "    <tr>\n",
       "      <th>22</th>\n",
       "      <td>113260</td>\n",
       "      <td>آزادراه</td>\n",
       "      <td>قم</td>\n",
       "      <td>تهران</td>\n",
       "      <td>عوارضی تهران</td>\n",
       "    </tr>\n",
       "    <tr>\n",
       "      <th>23</th>\n",
       "      <td>113262</td>\n",
       "      <td>NaN</td>\n",
       "      <td>تهران</td>\n",
       "      <td>امام زاده داوود</td>\n",
       "      <td>NaN</td>\n",
       "    </tr>\n",
       "    <tr>\n",
       "      <th>24</th>\n",
       "      <td>113263</td>\n",
       "      <td>NaN</td>\n",
       "      <td>لواسانات</td>\n",
       "      <td>تهران</td>\n",
       "      <td>طلائیه</td>\n",
       "    </tr>\n",
       "    <tr>\n",
       "      <th>25</th>\n",
       "      <td>113264</td>\n",
       "      <td>NaN</td>\n",
       "      <td>لواسانات</td>\n",
       "      <td>تهران</td>\n",
       "      <td>سوهانک</td>\n",
       "    </tr>\n",
       "    <tr>\n",
       "      <th>26</th>\n",
       "      <td>113278</td>\n",
       "      <td>آزادراه</td>\n",
       "      <td>ساوه</td>\n",
       "      <td>تهران</td>\n",
       "      <td>پرند</td>\n",
       "    </tr>\n",
       "    <tr>\n",
       "      <th>27</th>\n",
       "      <td>113293</td>\n",
       "      <td>جاده قدیم</td>\n",
       "      <td>قم</td>\n",
       "      <td>تهران</td>\n",
       "      <td>نعلبندان - حسن‌آباد</td>\n",
       "    </tr>\n",
       "    <tr>\n",
       "      <th>28</th>\n",
       "      <td>113299</td>\n",
       "      <td>آزادراه</td>\n",
       "      <td>شمال</td>\n",
       "      <td>تهران</td>\n",
       "      <td>قطعه اول - محدوده عواضی تهران</td>\n",
       "    </tr>\n",
       "    <tr>\n",
       "      <th>30</th>\n",
       "      <td>113341</td>\n",
       "      <td>آزادراه</td>\n",
       "      <td>تهران</td>\n",
       "      <td>شمال</td>\n",
       "      <td>قطعه اول - بعد از تونل 12</td>\n",
       "    </tr>\n",
       "    <tr>\n",
       "      <th>33</th>\n",
       "      <td>113391</td>\n",
       "      <td>آزادراه</td>\n",
       "      <td>شمال</td>\n",
       "      <td>تهران</td>\n",
       "      <td>قطعه اول - بعد از تونل 12</td>\n",
       "    </tr>\n",
       "    <tr>\n",
       "      <th>59</th>\n",
       "      <td>113478</td>\n",
       "      <td>جاده</td>\n",
       "      <td>مخصوص کرج</td>\n",
       "      <td>تهران</td>\n",
       "      <td>وردآورد</td>\n",
       "    </tr>\n",
       "    <tr>\n",
       "      <th>66</th>\n",
       "      <td>113604</td>\n",
       "      <td>آزادراه</td>\n",
       "      <td>تهران</td>\n",
       "      <td>قم</td>\n",
       "      <td>بین فرودگاه و حسن آباد</td>\n",
       "    </tr>\n",
       "    <tr>\n",
       "      <th>70</th>\n",
       "      <td>113654</td>\n",
       "      <td>آزادراه</td>\n",
       "      <td>قم</td>\n",
       "      <td>تهران</td>\n",
       "      <td>بین فرودگاه و حسن آباد</td>\n",
       "    </tr>\n",
       "    <tr>\n",
       "      <th>75</th>\n",
       "      <td>113805</td>\n",
       "      <td>NaN</td>\n",
       "      <td>تهران</td>\n",
       "      <td>لواسانات</td>\n",
       "      <td>تلو</td>\n",
       "    </tr>\n",
       "    <tr>\n",
       "      <th>77</th>\n",
       "      <td>113813</td>\n",
       "      <td>NaN</td>\n",
       "      <td>تهران</td>\n",
       "      <td>جاجرود</td>\n",
       "      <td>متناظر توزین</td>\n",
       "    </tr>\n",
       "    <tr>\n",
       "      <th>81</th>\n",
       "      <td>113855</td>\n",
       "      <td>NaN</td>\n",
       "      <td>لواسانات</td>\n",
       "      <td>تهران</td>\n",
       "      <td>تلو</td>\n",
       "    </tr>\n",
       "    <tr>\n",
       "      <th>83</th>\n",
       "      <td>113863</td>\n",
       "      <td>NaN</td>\n",
       "      <td>جاجرود</td>\n",
       "      <td>تهران</td>\n",
       "      <td>NaN</td>\n",
       "    </tr>\n",
       "    <tr>\n",
       "      <th>85</th>\n",
       "      <td>113903</td>\n",
       "      <td>NaN</td>\n",
       "      <td>تهران</td>\n",
       "      <td>شهریار</td>\n",
       "      <td>باغستان</td>\n",
       "    </tr>\n",
       "    <tr>\n",
       "      <th>86</th>\n",
       "      <td>113904</td>\n",
       "      <td>NaN</td>\n",
       "      <td>تهران</td>\n",
       "      <td>شهریار</td>\n",
       "      <td>شهر قدس</td>\n",
       "    </tr>\n",
       "    <tr>\n",
       "      <th>88</th>\n",
       "      <td>113953</td>\n",
       "      <td>NaN</td>\n",
       "      <td>شهریار</td>\n",
       "      <td>تهران</td>\n",
       "      <td>باغستان</td>\n",
       "    </tr>\n",
       "    <tr>\n",
       "      <th>89</th>\n",
       "      <td>113954</td>\n",
       "      <td>NaN</td>\n",
       "      <td>شهریار</td>\n",
       "      <td>تهران</td>\n",
       "      <td>شهر قدس</td>\n",
       "    </tr>\n",
       "    <tr>\n",
       "      <th>91</th>\n",
       "      <td>114101</td>\n",
       "      <td>NaN</td>\n",
       "      <td>تهران</td>\n",
       "      <td>حسن آباد</td>\n",
       "      <td>جاده قدیم قم</td>\n",
       "    </tr>\n",
       "    <tr>\n",
       "      <th>92</th>\n",
       "      <td>114102</td>\n",
       "      <td>جاده قدیم</td>\n",
       "      <td>تهران</td>\n",
       "      <td>ساوه</td>\n",
       "      <td>رباط‌کریم - پرند</td>\n",
       "    </tr>\n",
       "    <tr>\n",
       "      <th>95</th>\n",
       "      <td>114152</td>\n",
       "      <td>جاده قدیم</td>\n",
       "      <td>ساوه</td>\n",
       "      <td>تهران</td>\n",
       "      <td>پرند - رباط‌کریم</td>\n",
       "    </tr>\n",
       "    <tr>\n",
       "      <th>98</th>\n",
       "      <td>114206</td>\n",
       "      <td>NaN</td>\n",
       "      <td>تهران</td>\n",
       "      <td>وردآورد</td>\n",
       "      <td>همت</td>\n",
       "    </tr>\n",
       "    <tr>\n",
       "      <th>99</th>\n",
       "      <td>114256</td>\n",
       "      <td>NaN</td>\n",
       "      <td>وردآورد</td>\n",
       "      <td>تهران</td>\n",
       "      <td>همت</td>\n",
       "    </tr>\n",
       "    <tr>\n",
       "      <th>116</th>\n",
       "      <td>114501</td>\n",
       "      <td>آزادراه</td>\n",
       "      <td>تهران</td>\n",
       "      <td>کرج</td>\n",
       "      <td>عوارضی قدیم</td>\n",
       "    </tr>\n",
       "    <tr>\n",
       "      <th>117</th>\n",
       "      <td>114551</td>\n",
       "      <td>آزادراه</td>\n",
       "      <td>کرج</td>\n",
       "      <td>تهران</td>\n",
       "      <td>عوارضی قدیم</td>\n",
       "    </tr>\n",
       "  </tbody>\n",
       "</table>\n",
       "</div>"
      ],
      "text/plain": [
       "       code       type           origin      destination  \\\n",
       "2    113203    آزادراه            تهران               قم   \n",
       "3    113206    آزادراه            تهران            پردیس   \n",
       "4    113207    آزادراه            تهران            پردیس   \n",
       "5    113208    آزادراه             ساوه            تهران   \n",
       "6    113209        NaN            تهران           پاکدشت   \n",
       "7    113210    آزادراه            تهران               قم   \n",
       "8    113212        NaN  امام زاده داوود            تهران   \n",
       "9    113213        NaN            تهران         لواسانات   \n",
       "10   113214        NaN            تهران         لواسانات   \n",
       "11   113228    آزادراه            تهران             ساوه   \n",
       "12   113229  جاده قدیم            تهران               قم   \n",
       "13   113243  جاده قدیم            تهران               قم   \n",
       "14   113249    آزادراه            تهران             شمال   \n",
       "17   113253    آزادراه               قم            تهران   \n",
       "18   113256    آزادراه            پردیس            تهران   \n",
       "19   113257    آزادراه            پردیس            تهران   \n",
       "20   113258    آزادراه            تهران             ساوه   \n",
       "21   113259        NaN           پاکدشت            تهران   \n",
       "22   113260    آزادراه               قم            تهران   \n",
       "23   113262        NaN            تهران  امام زاده داوود   \n",
       "24   113263        NaN         لواسانات            تهران   \n",
       "25   113264        NaN         لواسانات            تهران   \n",
       "26   113278    آزادراه             ساوه            تهران   \n",
       "27   113293  جاده قدیم               قم            تهران   \n",
       "28   113299    آزادراه             شمال            تهران   \n",
       "30   113341    آزادراه            تهران             شمال   \n",
       "33   113391    آزادراه             شمال            تهران   \n",
       "59   113478       جاده        مخصوص کرج            تهران   \n",
       "66   113604    آزادراه            تهران               قم   \n",
       "70   113654    آزادراه               قم            تهران   \n",
       "75   113805        NaN            تهران         لواسانات   \n",
       "77   113813        NaN            تهران           جاجرود   \n",
       "81   113855        NaN         لواسانات            تهران   \n",
       "83   113863        NaN           جاجرود            تهران   \n",
       "85   113903        NaN            تهران           شهریار   \n",
       "86   113904        NaN            تهران           شهریار   \n",
       "88   113953        NaN           شهریار            تهران   \n",
       "89   113954        NaN           شهریار            تهران   \n",
       "91   114101        NaN            تهران         حسن آباد   \n",
       "92   114102  جاده قدیم            تهران             ساوه   \n",
       "95   114152  جاده قدیم             ساوه            تهران   \n",
       "98   114206        NaN            تهران          وردآورد   \n",
       "99   114256        NaN          وردآورد            تهران   \n",
       "116  114501    آزادراه            تهران              کرج   \n",
       "117  114551    آزادراه              کرج            تهران   \n",
       "\n",
       "                              place  \n",
       "2                         مجتمع یاس  \n",
       "3                      عوارضی پردیس  \n",
       "4                             بومهن  \n",
       "5                   رباط کریم-تهران  \n",
       "6                               NaN  \n",
       "7                      عوارضی تهران  \n",
       "8                               NaN  \n",
       "9                            طلائیه  \n",
       "10                           سوهانک  \n",
       "11                             پرند  \n",
       "12          حسن آباد) (متناظر توزین  \n",
       "13              حسن‌آباد - نعلبندان  \n",
       "14   قطعه اول - محدوده عوارضی تهران  \n",
       "17                        مجتمع یاس  \n",
       "18                     عوارضی پردیس  \n",
       "19                            بومهن  \n",
       "20                  تهران-رباط کریم  \n",
       "21                              NaN  \n",
       "22                     عوارضی تهران  \n",
       "23                              NaN  \n",
       "24                           طلائیه  \n",
       "25                           سوهانک  \n",
       "26                             پرند  \n",
       "27              نعلبندان - حسن‌آباد  \n",
       "28    قطعه اول - محدوده عواضی تهران  \n",
       "30        قطعه اول - بعد از تونل 12  \n",
       "33        قطعه اول - بعد از تونل 12  \n",
       "59                          وردآورد  \n",
       "66           بین فرودگاه و حسن آباد  \n",
       "70           بین فرودگاه و حسن آباد  \n",
       "75                              تلو  \n",
       "77                     متناظر توزین  \n",
       "81                              تلو  \n",
       "83                              NaN  \n",
       "85                          باغستان  \n",
       "86                          شهر قدس  \n",
       "88                          باغستان  \n",
       "89                          شهر قدس  \n",
       "91                     جاده قدیم قم  \n",
       "92                 رباط‌کریم - پرند  \n",
       "95                 پرند - رباط‌کریم  \n",
       "98                              همت  \n",
       "99                              همت  \n",
       "116                     عوارضی قدیم  \n",
       "117                     عوارضی قدیم  "
      ]
     },
     "execution_count": 10,
     "metadata": {},
     "output_type": "execute_result"
    }
   ],
   "source": [
    "# remove unwanted roads\n",
    "unwanted_type = ['عوارضی', 'کمربندی']\n",
    "unwanted_roads = []\n",
    "\n",
    "city_roads_df = city_roads_df.drop(city_roads_df[city_roads_df.type.isin(unwanted_type)].index)\n",
    "city_roads_df = city_roads_df.drop(city_roads_df[city_roads_df.code.isin(unwanted_roads)].index)\n",
    "\n",
    "city_roads_df"
   ]
  },
  {
   "cell_type": "code",
   "execution_count": 10,
   "id": "e932e5d9",
   "metadata": {},
   "outputs": [
    {
     "data": {
      "text/plain": [
       "type     origin  destination\n",
       "آزادراه  رشت     قزوین                  [543105, 543230, 543503]\n",
       "         قزوین   رشت            [543155, 543280, 543553, 543556]\n",
       "Name: code, dtype: object"
      ]
     },
     "execution_count": 10,
     "metadata": {},
     "output_type": "execute_result"
    }
   ],
   "source": [
    "duplicates = city_roads_df.duplicated(subset=['type', 'origin', 'destination'], keep=False)\n",
    "df_duplicates = city_roads_df[duplicates]\n",
    "df_duplicates = df_duplicates.fillna('nan').groupby(['type', 'origin', 'destination'])['code'].apply(list)\n",
    "df_duplicates"
   ]
  },
  {
   "cell_type": "code",
   "execution_count": 11,
   "id": "e0ce1d75",
   "metadata": {},
   "outputs": [
    {
     "data": {
      "text/html": [
       "<div>\n",
       "<style scoped>\n",
       "    .dataframe tbody tr th:only-of-type {\n",
       "        vertical-align: middle;\n",
       "    }\n",
       "\n",
       "    .dataframe tbody tr th {\n",
       "        vertical-align: top;\n",
       "    }\n",
       "\n",
       "    .dataframe thead th {\n",
       "        text-align: right;\n",
       "    }\n",
       "</style>\n",
       "<table border=\"1\" class=\"dataframe\">\n",
       "  <thead>\n",
       "    <tr style=\"text-align: right;\">\n",
       "      <th></th>\n",
       "      <th>code</th>\n",
       "      <th>type</th>\n",
       "      <th>origin</th>\n",
       "      <th>destination</th>\n",
       "      <th>place</th>\n",
       "    </tr>\n",
       "  </thead>\n",
       "  <tbody>\n",
       "    <tr>\n",
       "      <th>1352</th>\n",
       "      <td>543104</td>\n",
       "      <td>NaN</td>\n",
       "      <td>رشت</td>\n",
       "      <td>فومن</td>\n",
       "      <td>NaN</td>\n",
       "    </tr>\n",
       "    <tr>\n",
       "      <th>1354</th>\n",
       "      <td>543109</td>\n",
       "      <td>NaN</td>\n",
       "      <td>رشت</td>\n",
       "      <td>پیر بازار</td>\n",
       "      <td>NaN</td>\n",
       "    </tr>\n",
       "    <tr>\n",
       "      <th>1363</th>\n",
       "      <td>543154</td>\n",
       "      <td>NaN</td>\n",
       "      <td>فومن</td>\n",
       "      <td>رشت</td>\n",
       "      <td>NaN</td>\n",
       "    </tr>\n",
       "    <tr>\n",
       "      <th>1365</th>\n",
       "      <td>543159</td>\n",
       "      <td>NaN</td>\n",
       "      <td>پیربازار</td>\n",
       "      <td>رشت</td>\n",
       "      <td>NaN</td>\n",
       "    </tr>\n",
       "    <tr>\n",
       "      <th>1366</th>\n",
       "      <td>543160</td>\n",
       "      <td>NaN</td>\n",
       "      <td>کوچصفهان</td>\n",
       "      <td>رشت</td>\n",
       "      <td>NaN</td>\n",
       "    </tr>\n",
       "    <tr>\n",
       "      <th>1373</th>\n",
       "      <td>543220</td>\n",
       "      <td>NaN</td>\n",
       "      <td>رشت</td>\n",
       "      <td>لاکان</td>\n",
       "      <td>NaN</td>\n",
       "    </tr>\n",
       "    <tr>\n",
       "      <th>1375</th>\n",
       "      <td>543230</td>\n",
       "      <td>آزادراه</td>\n",
       "      <td>رشت</td>\n",
       "      <td>قزوین</td>\n",
       "      <td>امامزاده هاشم</td>\n",
       "    </tr>\n",
       "    <tr>\n",
       "      <th>1378</th>\n",
       "      <td>543233</td>\n",
       "      <td>NaN</td>\n",
       "      <td>سنگر</td>\n",
       "      <td>رشت</td>\n",
       "      <td>NaN</td>\n",
       "    </tr>\n",
       "    <tr>\n",
       "      <th>1380</th>\n",
       "      <td>543235</td>\n",
       "      <td>NaN</td>\n",
       "      <td>رشت</td>\n",
       "      <td>جیرده</td>\n",
       "      <td>NaN</td>\n",
       "    </tr>\n",
       "    <tr>\n",
       "      <th>1382</th>\n",
       "      <td>543269</td>\n",
       "      <td>NaN</td>\n",
       "      <td>تقاطع سراوان</td>\n",
       "      <td>رشت</td>\n",
       "      <td>NaN</td>\n",
       "    </tr>\n",
       "    <tr>\n",
       "      <th>1383</th>\n",
       "      <td>543270</td>\n",
       "      <td>NaN</td>\n",
       "      <td>لاکان</td>\n",
       "      <td>رشت</td>\n",
       "      <td>NaN</td>\n",
       "    </tr>\n",
       "    <tr>\n",
       "      <th>1385</th>\n",
       "      <td>543280</td>\n",
       "      <td>آزادراه</td>\n",
       "      <td>قزوین</td>\n",
       "      <td>رشت</td>\n",
       "      <td>امامزاده هاشم) (متناظر توزین</td>\n",
       "    </tr>\n",
       "    <tr>\n",
       "      <th>1388</th>\n",
       "      <td>543283</td>\n",
       "      <td>NaN</td>\n",
       "      <td>رشت</td>\n",
       "      <td>سنگر</td>\n",
       "      <td>NaN</td>\n",
       "    </tr>\n",
       "    <tr>\n",
       "      <th>1390</th>\n",
       "      <td>543285</td>\n",
       "      <td>NaN</td>\n",
       "      <td>جیرده</td>\n",
       "      <td>رشت</td>\n",
       "      <td>NaN</td>\n",
       "    </tr>\n",
       "  </tbody>\n",
       "</table>\n",
       "</div>"
      ],
      "text/plain": [
       "        code     type        origin destination                         place\n",
       "1352  543104      NaN           رشت        فومن                           NaN\n",
       "1354  543109      NaN           رشت   پیر بازار                           NaN\n",
       "1363  543154      NaN          فومن         رشت                           NaN\n",
       "1365  543159      NaN      پیربازار         رشت                           NaN\n",
       "1366  543160      NaN      کوچصفهان         رشت                           NaN\n",
       "1373  543220      NaN           رشت       لاکان                           NaN\n",
       "1375  543230  آزادراه           رشت       قزوین                 امامزاده هاشم\n",
       "1378  543233      NaN          سنگر         رشت                           NaN\n",
       "1380  543235      NaN           رشت       جیرده                           NaN\n",
       "1382  543269      NaN  تقاطع سراوان         رشت                           NaN\n",
       "1383  543270      NaN         لاکان         رشت                           NaN\n",
       "1385  543280  آزادراه         قزوین         رشت  امامزاده هاشم) (متناظر توزین\n",
       "1388  543283      NaN           رشت        سنگر                           NaN\n",
       "1390  543285      NaN         جیرده         رشت                           NaN"
      ]
     },
     "execution_count": 11,
     "metadata": {},
     "output_type": "execute_result"
    }
   ],
   "source": [
    "for d in df_duplicates:\n",
    "    mx = 0\n",
    "    mx_code = ''\n",
    "    for code in d:\n",
    "        s = df[df.code == code].car_est.sum()\n",
    "        if mx < s:\n",
    "            if mx != '':\n",
    "                city_roads_df = city_roads_df.drop(city_roads_df[city_roads_df.code == mx_code].index)\n",
    "            mx = s\n",
    "            mx_code = code\n",
    "        else:\n",
    "            city_roads_df = city_roads_df.drop(city_roads_df[city_roads_df.code == code].index)\n",
    "\n",
    "city_roads_df"
   ]
  },
  {
   "cell_type": "code",
   "execution_count": 12,
   "id": "79368ac0",
   "metadata": {},
   "outputs": [
    {
     "data": {
      "text/html": [
       "<div>\n",
       "<style scoped>\n",
       "    .dataframe tbody tr th:only-of-type {\n",
       "        vertical-align: middle;\n",
       "    }\n",
       "\n",
       "    .dataframe tbody tr th {\n",
       "        vertical-align: top;\n",
       "    }\n",
       "\n",
       "    .dataframe thead th {\n",
       "        text-align: right;\n",
       "    }\n",
       "</style>\n",
       "<table border=\"1\" class=\"dataframe\">\n",
       "  <thead>\n",
       "    <tr style=\"text-align: right;\">\n",
       "      <th></th>\n",
       "      <th>code</th>\n",
       "      <th>name</th>\n",
       "      <th>date</th>\n",
       "      <th>duration</th>\n",
       "      <th>total_count</th>\n",
       "      <th>car_count</th>\n",
       "      <th>total_est</th>\n",
       "      <th>car_est</th>\n",
       "      <th>avg_speed</th>\n",
       "      <th>total_est_normal</th>\n",
       "    </tr>\n",
       "  </thead>\n",
       "  <tbody>\n",
       "    <tr>\n",
       "      <th>5157</th>\n",
       "      <td>543269</td>\n",
       "      <td>تقاطع سراوان - رشت</td>\n",
       "      <td>1402-12-11</td>\n",
       "      <td>55.0</td>\n",
       "      <td>874.0</td>\n",
       "      <td>736.0</td>\n",
       "      <td>19595.0</td>\n",
       "      <td>16501.0</td>\n",
       "      <td>92.0</td>\n",
       "      <td>-0.491171</td>\n",
       "    </tr>\n",
       "    <tr>\n",
       "      <th>5158</th>\n",
       "      <td>543269</td>\n",
       "      <td>تقاطع سراوان - رشت</td>\n",
       "      <td>1402-12-16</td>\n",
       "      <td>165.0</td>\n",
       "      <td>1991.0</td>\n",
       "      <td>1584.0</td>\n",
       "      <td>18824.0</td>\n",
       "      <td>14976.0</td>\n",
       "      <td>104.0</td>\n",
       "      <td>-0.700625</td>\n",
       "    </tr>\n",
       "    <tr>\n",
       "      <th>5159</th>\n",
       "      <td>543269</td>\n",
       "      <td>تقاطع سراوان - رشت</td>\n",
       "      <td>1402-12-17</td>\n",
       "      <td>1200.0</td>\n",
       "      <td>16092.0</td>\n",
       "      <td>11633.0</td>\n",
       "      <td>20174.0</td>\n",
       "      <td>14583.0</td>\n",
       "      <td>101.0</td>\n",
       "      <td>-0.333877</td>\n",
       "    </tr>\n",
       "    <tr>\n",
       "      <th>5160</th>\n",
       "      <td>543269</td>\n",
       "      <td>تقاطع سراوان - رشت</td>\n",
       "      <td>1402-12-18</td>\n",
       "      <td>1415.0</td>\n",
       "      <td>18987.0</td>\n",
       "      <td>14210.0</td>\n",
       "      <td>19366.0</td>\n",
       "      <td>14493.0</td>\n",
       "      <td>103.0</td>\n",
       "      <td>-0.553382</td>\n",
       "    </tr>\n",
       "    <tr>\n",
       "      <th>5161</th>\n",
       "      <td>543269</td>\n",
       "      <td>تقاطع سراوان - رشت</td>\n",
       "      <td>1402-12-19</td>\n",
       "      <td>1240.0</td>\n",
       "      <td>15169.0</td>\n",
       "      <td>12916.0</td>\n",
       "      <td>19213.0</td>\n",
       "      <td>16359.0</td>\n",
       "      <td>92.0</td>\n",
       "      <td>-0.594947</td>\n",
       "    </tr>\n",
       "  </tbody>\n",
       "</table>\n",
       "</div>"
      ],
      "text/plain": [
       "        code                name        date  duration  total_count  \\\n",
       "5157  543269  تقاطع سراوان - رشت  1402-12-11      55.0        874.0   \n",
       "5158  543269  تقاطع سراوان - رشت  1402-12-16     165.0       1991.0   \n",
       "5159  543269  تقاطع سراوان - رشت  1402-12-17    1200.0      16092.0   \n",
       "5160  543269  تقاطع سراوان - رشت  1402-12-18    1415.0      18987.0   \n",
       "5161  543269  تقاطع سراوان - رشت  1402-12-19    1240.0      15169.0   \n",
       "\n",
       "      car_count  total_est  car_est  avg_speed  total_est_normal  \n",
       "5157      736.0    19595.0  16501.0       92.0         -0.491171  \n",
       "5158     1584.0    18824.0  14976.0      104.0         -0.700625  \n",
       "5159    11633.0    20174.0  14583.0      101.0         -0.333877  \n",
       "5160    14210.0    19366.0  14493.0      103.0         -0.553382  \n",
       "5161    12916.0    19213.0  16359.0       92.0         -0.594947  "
      ]
     },
     "execution_count": 12,
     "metadata": {},
     "output_type": "execute_result"
    }
   ],
   "source": [
    "city_in_df = df[df['code'].isin(city_roads_df[city_roads_df.destination == city]['code'].tolist())]\n",
    "city_out_df = df[df['code'].isin(city_roads_df[city_roads_df.origin == city]['code'].tolist())]\n",
    "\n",
    "city_in_df.head()"
   ]
  },
  {
   "cell_type": "code",
   "execution_count": 13,
   "id": "54ee6ed1",
   "metadata": {},
   "outputs": [
    {
     "name": "stdout",
     "output_type": "stream",
     "text": [
      "1402-12-10\n",
      "in: 118536.0, out: 87274.0, diff: 31262.0\n",
      "1402-12-11\n",
      "in: 132097.0, out: 83407.0, diff: 48690.0\n",
      "1402-12-12\n",
      "in: 128359.0, out: 87951.0, diff: 40408.0\n",
      "1402-12-13\n",
      "in: 129167.0, out: 94621.0, diff: 34546.0\n",
      "1402-12-14\n",
      "in: 125555.0, out: 93566.0, diff: 31989.0\n",
      "1402-12-15\n",
      "in: 129713.0, out: 95337.0, diff: 34376.0\n",
      "1402-12-16\n",
      "in: 155144.0, out: 100395.0, diff: 54749.0\n",
      "1402-12-17\n",
      "in: 155407.0, out: 104964.0, diff: 50443.0\n",
      "1402-12-18\n",
      "in: 140846.0, out: 98501.0, diff: 42345.0\n",
      "1402-12-19\n",
      "in: 150963.0, out: 104251.0, diff: 46712.0\n",
      "1402-12-20\n",
      "in: 122519.0, out: 71609.0, diff: 50910.0\n",
      "1402-12-21\n",
      "in: 119998.0, out: 72920.0, diff: 47078.0\n",
      "1402-12-22\n",
      "in: 113777.0, out: 73540.0, diff: 40237.0\n",
      "1402-12-23\n",
      "in: 125005.0, out: 71847.0, diff: 53158.0\n",
      "1402-12-24\n",
      "in: 124475.0, out: 78378.0, diff: 46097.0\n",
      "1402-12-25\n",
      "in: 115850.0, out: 64720.0, diff: 51130.0\n",
      "1402-12-26\n",
      "in: 130872.0, out: 75077.0, diff: 55795.0\n",
      "1402-12-27\n",
      "in: 174399.0, out: 99993.0, diff: 74406.0\n",
      "1402-12-28\n",
      "in: 184010.0, out: 101239.0, diff: 82771.0\n",
      "1402-12-29\n",
      "in: 167125.0, out: 89447.0, diff: 77678.0\n",
      "1403-01-01\n",
      "in: 152874.0, out: 84235.0, diff: 68639.0\n",
      "1403-01-02\n",
      "in: 161452.0, out: 85100.0, diff: 76352.0\n",
      "1403-01-03\n",
      "in: 185607.0, out: 103682.0, diff: 81925.0\n",
      "1403-01-04\n",
      "in: 186855.0, out: 111679.0, diff: 75176.0\n",
      "1403-01-05\n",
      "in: 193213.0, out: 128415.0, diff: 64798.0\n",
      "1403-01-06\n",
      "in: 185348.0, out: 129912.0, diff: 55436.0\n",
      "1403-01-07\n",
      "in: 206409.0, out: 132873.0, diff: 73536.0\n",
      "1403-01-08\n",
      "in: 207466.0, out: 126788.0, diff: 80678.0\n",
      "1403-01-09\n",
      "in: 176005.0, out: 133631.0, diff: 42374.0\n",
      "1403-01-10\n",
      "in: 163650.0, out: 131099.0, diff: 32551.0\n",
      "1403-01-11\n",
      "in: 156937.0, out: 136523.0, diff: 20414.0\n",
      "1403-01-12\n",
      "in: 133831.0, out: 137454.0, diff: -3623.0\n",
      "1403-01-13\n",
      "in: 121800.0, out: 124190.0, diff: -2390.0\n",
      "1403-01-14\n",
      "in: 140058.0, out: 117951.0, diff: 22107.0\n",
      "1403-01-15\n",
      "in: 135197.0, out: 112137.0, diff: 23060.0\n",
      "1403-01-16\n",
      "in: 131836.0, out: 113970.0, diff: 17866.0\n",
      "1403-01-17\n",
      "in: 129011.0, out: 105418.0, diff: 23593.0\n",
      "1403-01-18\n",
      "in: 129177.0, out: 95770.0, diff: 33407.0\n",
      "1403-01-19\n",
      "in: 125412.0, out: 92848.0, diff: 32564.0\n",
      "1403-01-20\n",
      "in: 133935.0, out: 93663.0, diff: 40272.0\n"
     ]
    }
   ],
   "source": [
    "date = jdatetime.datetime.strptime(\"1402-12-10\", \"%Y-%m-%d\").date()\n",
    "\n",
    "in_list, out_list = [], []\n",
    "\n",
    "for _ in range(40):\n",
    "    in_cnt, out_cnt = 0, 0\n",
    "    print(date)\n",
    "    in_cnt = city_in_df[city_in_df.date == date].car_est.sum()\n",
    "    out_cnt = city_out_df[city_out_df.date == date].car_est.sum()\n",
    "\n",
    "    in_list.append([date, in_cnt, 'ورودی'])\n",
    "    out_list.append([date, out_cnt, 'خروجی'])\n",
    "\n",
    "    print(f\"in: {in_cnt}, out: {out_cnt}, diff: {in_cnt - out_cnt}\")\n",
    "    date = date + jdatetime.timedelta(days=1)"
   ]
  },
  {
   "cell_type": "code",
   "execution_count": 14,
   "id": "48856b67",
   "metadata": {},
   "outputs": [
    {
     "data": {
      "text/html": [
       "<div>\n",
       "<style scoped>\n",
       "    .dataframe tbody tr th:only-of-type {\n",
       "        vertical-align: middle;\n",
       "    }\n",
       "\n",
       "    .dataframe tbody tr th {\n",
       "        vertical-align: top;\n",
       "    }\n",
       "\n",
       "    .dataframe thead th {\n",
       "        text-align: right;\n",
       "    }\n",
       "</style>\n",
       "<table border=\"1\" class=\"dataframe\">\n",
       "  <thead>\n",
       "    <tr style=\"text-align: right;\">\n",
       "      <th></th>\n",
       "      <th>date</th>\n",
       "      <th>cnt</th>\n",
       "      <th>color</th>\n",
       "    </tr>\n",
       "  </thead>\n",
       "  <tbody>\n",
       "    <tr>\n",
       "      <th>0</th>\n",
       "      <td>1402-12-10</td>\n",
       "      <td>118536.0</td>\n",
       "      <td>ورودی</td>\n",
       "    </tr>\n",
       "    <tr>\n",
       "      <th>1</th>\n",
       "      <td>1402-12-11</td>\n",
       "      <td>132097.0</td>\n",
       "      <td>ورودی</td>\n",
       "    </tr>\n",
       "    <tr>\n",
       "      <th>2</th>\n",
       "      <td>1402-12-12</td>\n",
       "      <td>128359.0</td>\n",
       "      <td>ورودی</td>\n",
       "    </tr>\n",
       "    <tr>\n",
       "      <th>3</th>\n",
       "      <td>1402-12-13</td>\n",
       "      <td>129167.0</td>\n",
       "      <td>ورودی</td>\n",
       "    </tr>\n",
       "    <tr>\n",
       "      <th>4</th>\n",
       "      <td>1402-12-14</td>\n",
       "      <td>125555.0</td>\n",
       "      <td>ورودی</td>\n",
       "    </tr>\n",
       "    <tr>\n",
       "      <th>...</th>\n",
       "      <td>...</td>\n",
       "      <td>...</td>\n",
       "      <td>...</td>\n",
       "    </tr>\n",
       "    <tr>\n",
       "      <th>75</th>\n",
       "      <td>1403-01-16</td>\n",
       "      <td>113970.0</td>\n",
       "      <td>خروجی</td>\n",
       "    </tr>\n",
       "    <tr>\n",
       "      <th>76</th>\n",
       "      <td>1403-01-17</td>\n",
       "      <td>105418.0</td>\n",
       "      <td>خروجی</td>\n",
       "    </tr>\n",
       "    <tr>\n",
       "      <th>77</th>\n",
       "      <td>1403-01-18</td>\n",
       "      <td>95770.0</td>\n",
       "      <td>خروجی</td>\n",
       "    </tr>\n",
       "    <tr>\n",
       "      <th>78</th>\n",
       "      <td>1403-01-19</td>\n",
       "      <td>92848.0</td>\n",
       "      <td>خروجی</td>\n",
       "    </tr>\n",
       "    <tr>\n",
       "      <th>79</th>\n",
       "      <td>1403-01-20</td>\n",
       "      <td>93663.0</td>\n",
       "      <td>خروجی</td>\n",
       "    </tr>\n",
       "  </tbody>\n",
       "</table>\n",
       "<p>80 rows × 3 columns</p>\n",
       "</div>"
      ],
      "text/plain": [
       "          date       cnt  color\n",
       "0   1402-12-10  118536.0  ورودی\n",
       "1   1402-12-11  132097.0  ورودی\n",
       "2   1402-12-12  128359.0  ورودی\n",
       "3   1402-12-13  129167.0  ورودی\n",
       "4   1402-12-14  125555.0  ورودی\n",
       "..         ...       ...    ...\n",
       "75  1403-01-16  113970.0  خروجی\n",
       "76  1403-01-17  105418.0  خروجی\n",
       "77  1403-01-18   95770.0  خروجی\n",
       "78  1403-01-19   92848.0  خروجی\n",
       "79  1403-01-20   93663.0  خروجی\n",
       "\n",
       "[80 rows x 3 columns]"
      ]
     },
     "execution_count": 14,
     "metadata": {},
     "output_type": "execute_result"
    }
   ],
   "source": [
    "in_tmp_df = pd.DataFrame(in_list, columns=['date', 'cnt', 'color'])\n",
    "out_tmp_df = pd.DataFrame(out_list, columns=['date', 'cnt', 'color'])\n",
    "\n",
    "flow_df = pd.concat([in_tmp_df, out_tmp_df], ignore_index=True)\n",
    "flow_df"
   ]
  },
  {
   "cell_type": "code",
   "execution_count": 17,
   "id": "fc417d95",
   "metadata": {},
   "outputs": [
    {
     "data": {
      "application/vnd.plotly.v1+json": {
       "config": {
        "plotlyServerURL": "https://plot.ly"
       },
       "data": [
        {
         "alignmentgroup": "True",
         "hovertemplate": "color=ورودی<br>date=%{x}<br>cnt=%{y}<extra></extra>",
         "legendgroup": "ورودی",
         "marker": {
          "color": "green",
          "pattern": {
           "shape": ""
          }
         },
         "name": "ورودی",
         "offsetgroup": "ورودی",
         "orientation": "v",
         "showlegend": true,
         "textposition": "auto",
         "type": "bar",
         "x": [
          "1402-12-26",
          "1402-12-27",
          "1402-12-28",
          "1402-12-29",
          "1403-01-01",
          "1403-01-02",
          "1403-01-03",
          "1403-01-04",
          "1403-01-05",
          "1403-01-06",
          "1403-01-07",
          "1403-01-08",
          "1403-01-09",
          "1403-01-10",
          "1403-01-11",
          "1403-01-12",
          "1403-01-13",
          "1403-01-14",
          "1403-01-15",
          "1403-01-16"
         ],
         "xaxis": "x",
         "y": {
          "bdata": "AAAAAIDz/0AAAAAA+EkFQQAAAABQdgZBAAAAAKhmBEEAAAAAUKkCQQAAAABgtQNBAAAAADioBkEAAAAAOM8GQQAAAADolQdBAAAAACCgBkEAAAAASDIJQQAAAABQUwlBAAAAACh8BUEAAAAAEPoDQQAAAABIKANBAAAAADhWAEEAAAAAgLz9QAAAAADQGAFBAAAAAOiAAEEAAAAA4BcAQQ==",
          "dtype": "f8"
         },
         "yaxis": "y"
        },
        {
         "alignmentgroup": "True",
         "hovertemplate": "color=خروجی<br>date=%{x}<br>cnt=%{y}<extra></extra>",
         "legendgroup": "خروجی",
         "marker": {
          "color": "red",
          "pattern": {
           "shape": ""
          }
         },
         "name": "خروجی",
         "offsetgroup": "خروجی",
         "orientation": "v",
         "showlegend": true,
         "textposition": "auto",
         "type": "bar",
         "x": [
          "1402-12-26",
          "1402-12-27",
          "1402-12-28",
          "1402-12-29",
          "1403-01-01",
          "1403-01-02",
          "1403-01-03",
          "1403-01-04",
          "1403-01-05",
          "1403-01-06",
          "1403-01-07",
          "1403-01-08",
          "1403-01-09",
          "1403-01-10",
          "1403-01-11",
          "1403-01-12",
          "1403-01-13",
          "1403-01-14",
          "1403-01-15",
          "1403-01-16"
         ],
         "xaxis": "x",
         "y": {
          "bdata": "AAAAAFBU8kAAAAAAkGn4QAAAAABwt/hAAAAAAHDW9UAAAAAAsJD0QAAAAADAxvRAAAAAACBQ+UAAAAAA8EP7QAAAAADwWf9AAAAAAIC3/0AAAAAASDgAQQAAAABA9P5AAAAAAPhPAEEAAAAA2AAAQQAAAABYqgBBAAAAAHDHAEEAAAAA4FH+QAAAAADwy/xAAAAAAJBg+0AAAAAAINP7QA==",
          "dtype": "f8"
         },
         "yaxis": "y"
        }
       ],
       "layout": {
        "bargap": 0.4,
        "bargroupgap": 0,
        "barmode": "group",
        "font": {
         "family": "Yas",
         "size": 14
        },
        "hovermode": "x unified",
        "legend": {
         "title": {
          "text": ""
         },
         "tracegroupgap": 0
        },
        "template": {
         "data": {
          "bar": [
           {
            "error_x": {
             "color": "#2a3f5f"
            },
            "error_y": {
             "color": "#2a3f5f"
            },
            "marker": {
             "line": {
              "color": "white",
              "width": 0.5
             },
             "pattern": {
              "fillmode": "overlay",
              "size": 10,
              "solidity": 0.2
             }
            },
            "type": "bar"
           }
          ],
          "barpolar": [
           {
            "marker": {
             "line": {
              "color": "white",
              "width": 0.5
             },
             "pattern": {
              "fillmode": "overlay",
              "size": 10,
              "solidity": 0.2
             }
            },
            "type": "barpolar"
           }
          ],
          "carpet": [
           {
            "aaxis": {
             "endlinecolor": "#2a3f5f",
             "gridcolor": "#C8D4E3",
             "linecolor": "#C8D4E3",
             "minorgridcolor": "#C8D4E3",
             "startlinecolor": "#2a3f5f"
            },
            "baxis": {
             "endlinecolor": "#2a3f5f",
             "gridcolor": "#C8D4E3",
             "linecolor": "#C8D4E3",
             "minorgridcolor": "#C8D4E3",
             "startlinecolor": "#2a3f5f"
            },
            "type": "carpet"
           }
          ],
          "choropleth": [
           {
            "colorbar": {
             "outlinewidth": 0,
             "ticks": ""
            },
            "type": "choropleth"
           }
          ],
          "contour": [
           {
            "colorbar": {
             "outlinewidth": 0,
             "ticks": ""
            },
            "colorscale": [
             [
              0,
              "#0d0887"
             ],
             [
              0.1111111111111111,
              "#46039f"
             ],
             [
              0.2222222222222222,
              "#7201a8"
             ],
             [
              0.3333333333333333,
              "#9c179e"
             ],
             [
              0.4444444444444444,
              "#bd3786"
             ],
             [
              0.5555555555555556,
              "#d8576b"
             ],
             [
              0.6666666666666666,
              "#ed7953"
             ],
             [
              0.7777777777777778,
              "#fb9f3a"
             ],
             [
              0.8888888888888888,
              "#fdca26"
             ],
             [
              1,
              "#f0f921"
             ]
            ],
            "type": "contour"
           }
          ],
          "contourcarpet": [
           {
            "colorbar": {
             "outlinewidth": 0,
             "ticks": ""
            },
            "type": "contourcarpet"
           }
          ],
          "heatmap": [
           {
            "colorbar": {
             "outlinewidth": 0,
             "ticks": ""
            },
            "colorscale": [
             [
              0,
              "#0d0887"
             ],
             [
              0.1111111111111111,
              "#46039f"
             ],
             [
              0.2222222222222222,
              "#7201a8"
             ],
             [
              0.3333333333333333,
              "#9c179e"
             ],
             [
              0.4444444444444444,
              "#bd3786"
             ],
             [
              0.5555555555555556,
              "#d8576b"
             ],
             [
              0.6666666666666666,
              "#ed7953"
             ],
             [
              0.7777777777777778,
              "#fb9f3a"
             ],
             [
              0.8888888888888888,
              "#fdca26"
             ],
             [
              1,
              "#f0f921"
             ]
            ],
            "type": "heatmap"
           }
          ],
          "histogram": [
           {
            "marker": {
             "pattern": {
              "fillmode": "overlay",
              "size": 10,
              "solidity": 0.2
             }
            },
            "type": "histogram"
           }
          ],
          "histogram2d": [
           {
            "colorbar": {
             "outlinewidth": 0,
             "ticks": ""
            },
            "colorscale": [
             [
              0,
              "#0d0887"
             ],
             [
              0.1111111111111111,
              "#46039f"
             ],
             [
              0.2222222222222222,
              "#7201a8"
             ],
             [
              0.3333333333333333,
              "#9c179e"
             ],
             [
              0.4444444444444444,
              "#bd3786"
             ],
             [
              0.5555555555555556,
              "#d8576b"
             ],
             [
              0.6666666666666666,
              "#ed7953"
             ],
             [
              0.7777777777777778,
              "#fb9f3a"
             ],
             [
              0.8888888888888888,
              "#fdca26"
             ],
             [
              1,
              "#f0f921"
             ]
            ],
            "type": "histogram2d"
           }
          ],
          "histogram2dcontour": [
           {
            "colorbar": {
             "outlinewidth": 0,
             "ticks": ""
            },
            "colorscale": [
             [
              0,
              "#0d0887"
             ],
             [
              0.1111111111111111,
              "#46039f"
             ],
             [
              0.2222222222222222,
              "#7201a8"
             ],
             [
              0.3333333333333333,
              "#9c179e"
             ],
             [
              0.4444444444444444,
              "#bd3786"
             ],
             [
              0.5555555555555556,
              "#d8576b"
             ],
             [
              0.6666666666666666,
              "#ed7953"
             ],
             [
              0.7777777777777778,
              "#fb9f3a"
             ],
             [
              0.8888888888888888,
              "#fdca26"
             ],
             [
              1,
              "#f0f921"
             ]
            ],
            "type": "histogram2dcontour"
           }
          ],
          "mesh3d": [
           {
            "colorbar": {
             "outlinewidth": 0,
             "ticks": ""
            },
            "type": "mesh3d"
           }
          ],
          "parcoords": [
           {
            "line": {
             "colorbar": {
              "outlinewidth": 0,
              "ticks": ""
             }
            },
            "type": "parcoords"
           }
          ],
          "pie": [
           {
            "automargin": true,
            "type": "pie"
           }
          ],
          "scatter": [
           {
            "fillpattern": {
             "fillmode": "overlay",
             "size": 10,
             "solidity": 0.2
            },
            "type": "scatter"
           }
          ],
          "scatter3d": [
           {
            "line": {
             "colorbar": {
              "outlinewidth": 0,
              "ticks": ""
             }
            },
            "marker": {
             "colorbar": {
              "outlinewidth": 0,
              "ticks": ""
             }
            },
            "type": "scatter3d"
           }
          ],
          "scattercarpet": [
           {
            "marker": {
             "colorbar": {
              "outlinewidth": 0,
              "ticks": ""
             }
            },
            "type": "scattercarpet"
           }
          ],
          "scattergeo": [
           {
            "marker": {
             "colorbar": {
              "outlinewidth": 0,
              "ticks": ""
             }
            },
            "type": "scattergeo"
           }
          ],
          "scattergl": [
           {
            "marker": {
             "colorbar": {
              "outlinewidth": 0,
              "ticks": ""
             }
            },
            "type": "scattergl"
           }
          ],
          "scattermap": [
           {
            "marker": {
             "colorbar": {
              "outlinewidth": 0,
              "ticks": ""
             }
            },
            "type": "scattermap"
           }
          ],
          "scattermapbox": [
           {
            "marker": {
             "colorbar": {
              "outlinewidth": 0,
              "ticks": ""
             }
            },
            "type": "scattermapbox"
           }
          ],
          "scatterpolar": [
           {
            "marker": {
             "colorbar": {
              "outlinewidth": 0,
              "ticks": ""
             }
            },
            "type": "scatterpolar"
           }
          ],
          "scatterpolargl": [
           {
            "marker": {
             "colorbar": {
              "outlinewidth": 0,
              "ticks": ""
             }
            },
            "type": "scatterpolargl"
           }
          ],
          "scatterternary": [
           {
            "marker": {
             "colorbar": {
              "outlinewidth": 0,
              "ticks": ""
             }
            },
            "type": "scatterternary"
           }
          ],
          "surface": [
           {
            "colorbar": {
             "outlinewidth": 0,
             "ticks": ""
            },
            "colorscale": [
             [
              0,
              "#0d0887"
             ],
             [
              0.1111111111111111,
              "#46039f"
             ],
             [
              0.2222222222222222,
              "#7201a8"
             ],
             [
              0.3333333333333333,
              "#9c179e"
             ],
             [
              0.4444444444444444,
              "#bd3786"
             ],
             [
              0.5555555555555556,
              "#d8576b"
             ],
             [
              0.6666666666666666,
              "#ed7953"
             ],
             [
              0.7777777777777778,
              "#fb9f3a"
             ],
             [
              0.8888888888888888,
              "#fdca26"
             ],
             [
              1,
              "#f0f921"
             ]
            ],
            "type": "surface"
           }
          ],
          "table": [
           {
            "cells": {
             "fill": {
              "color": "#EBF0F8"
             },
             "line": {
              "color": "white"
             }
            },
            "header": {
             "fill": {
              "color": "#C8D4E3"
             },
             "line": {
              "color": "white"
             }
            },
            "type": "table"
           }
          ]
         },
         "layout": {
          "annotationdefaults": {
           "arrowcolor": "#2a3f5f",
           "arrowhead": 0,
           "arrowwidth": 1
          },
          "autotypenumbers": "strict",
          "coloraxis": {
           "colorbar": {
            "outlinewidth": 0,
            "ticks": ""
           }
          },
          "colorscale": {
           "diverging": [
            [
             0,
             "#8e0152"
            ],
            [
             0.1,
             "#c51b7d"
            ],
            [
             0.2,
             "#de77ae"
            ],
            [
             0.3,
             "#f1b6da"
            ],
            [
             0.4,
             "#fde0ef"
            ],
            [
             0.5,
             "#f7f7f7"
            ],
            [
             0.6,
             "#e6f5d0"
            ],
            [
             0.7,
             "#b8e186"
            ],
            [
             0.8,
             "#7fbc41"
            ],
            [
             0.9,
             "#4d9221"
            ],
            [
             1,
             "#276419"
            ]
           ],
           "sequential": [
            [
             0,
             "#0d0887"
            ],
            [
             0.1111111111111111,
             "#46039f"
            ],
            [
             0.2222222222222222,
             "#7201a8"
            ],
            [
             0.3333333333333333,
             "#9c179e"
            ],
            [
             0.4444444444444444,
             "#bd3786"
            ],
            [
             0.5555555555555556,
             "#d8576b"
            ],
            [
             0.6666666666666666,
             "#ed7953"
            ],
            [
             0.7777777777777778,
             "#fb9f3a"
            ],
            [
             0.8888888888888888,
             "#fdca26"
            ],
            [
             1,
             "#f0f921"
            ]
           ],
           "sequentialminus": [
            [
             0,
             "#0d0887"
            ],
            [
             0.1111111111111111,
             "#46039f"
            ],
            [
             0.2222222222222222,
             "#7201a8"
            ],
            [
             0.3333333333333333,
             "#9c179e"
            ],
            [
             0.4444444444444444,
             "#bd3786"
            ],
            [
             0.5555555555555556,
             "#d8576b"
            ],
            [
             0.6666666666666666,
             "#ed7953"
            ],
            [
             0.7777777777777778,
             "#fb9f3a"
            ],
            [
             0.8888888888888888,
             "#fdca26"
            ],
            [
             1,
             "#f0f921"
            ]
           ]
          },
          "colorway": [
           "#636efa",
           "#EF553B",
           "#00cc96",
           "#ab63fa",
           "#FFA15A",
           "#19d3f3",
           "#FF6692",
           "#B6E880",
           "#FF97FF",
           "#FECB52"
          ],
          "font": {
           "color": "#2a3f5f"
          },
          "geo": {
           "bgcolor": "white",
           "lakecolor": "white",
           "landcolor": "white",
           "showlakes": true,
           "showland": true,
           "subunitcolor": "#C8D4E3"
          },
          "hoverlabel": {
           "align": "left"
          },
          "hovermode": "closest",
          "mapbox": {
           "style": "light"
          },
          "paper_bgcolor": "white",
          "plot_bgcolor": "white",
          "polar": {
           "angularaxis": {
            "gridcolor": "#EBF0F8",
            "linecolor": "#EBF0F8",
            "ticks": ""
           },
           "bgcolor": "white",
           "radialaxis": {
            "gridcolor": "#EBF0F8",
            "linecolor": "#EBF0F8",
            "ticks": ""
           }
          },
          "scene": {
           "xaxis": {
            "backgroundcolor": "white",
            "gridcolor": "#DFE8F3",
            "gridwidth": 2,
            "linecolor": "#EBF0F8",
            "showbackground": true,
            "ticks": "",
            "zerolinecolor": "#EBF0F8"
           },
           "yaxis": {
            "backgroundcolor": "white",
            "gridcolor": "#DFE8F3",
            "gridwidth": 2,
            "linecolor": "#EBF0F8",
            "showbackground": true,
            "ticks": "",
            "zerolinecolor": "#EBF0F8"
           },
           "zaxis": {
            "backgroundcolor": "white",
            "gridcolor": "#DFE8F3",
            "gridwidth": 2,
            "linecolor": "#EBF0F8",
            "showbackground": true,
            "ticks": "",
            "zerolinecolor": "#EBF0F8"
           }
          },
          "shapedefaults": {
           "line": {
            "color": "#2a3f5f"
           }
          },
          "ternary": {
           "aaxis": {
            "gridcolor": "#DFE8F3",
            "linecolor": "#A2B1C6",
            "ticks": ""
           },
           "baxis": {
            "gridcolor": "#DFE8F3",
            "linecolor": "#A2B1C6",
            "ticks": ""
           },
           "bgcolor": "white",
           "caxis": {
            "gridcolor": "#DFE8F3",
            "linecolor": "#A2B1C6",
            "ticks": ""
           }
          },
          "title": {
           "x": 0.05
          },
          "xaxis": {
           "automargin": true,
           "gridcolor": "#EBF0F8",
           "linecolor": "#EBF0F8",
           "ticks": "",
           "title": {
            "standoff": 15
           },
           "zerolinecolor": "#EBF0F8",
           "zerolinewidth": 2
          },
          "yaxis": {
           "automargin": true,
           "gridcolor": "#EBF0F8",
           "linecolor": "#EBF0F8",
           "ticks": "",
           "title": {
            "standoff": 15
           },
           "zerolinecolor": "#EBF0F8",
           "zerolinewidth": 2
          }
         }
        },
        "title": {
         "text": "<b>ورودی و خروجی برحسب تاریخ در رشت</b>",
         "x": 0.5
        },
        "xaxis": {
         "anchor": "y",
         "domain": [
          0,
          1
         ],
         "gridcolor": "lightgray",
         "linecolor": "black",
         "mirror": true,
         "showline": true,
         "tickfont": {
          "size": 14
         },
         "ticks": "outside",
         "title": {
          "text": "تاریخ"
         },
         "type": "category"
        },
        "yaxis": {
         "anchor": "x",
         "domain": [
          0,
          1
         ],
         "gridcolor": "lightgray",
         "linecolor": "black",
         "mirror": true,
         "showline": true,
         "tickfont": {
          "size": 14
         },
         "ticks": "outside",
         "title": {
          "text": "تعداد"
         }
        }
       }
      }
     },
     "metadata": {},
     "output_type": "display_data"
    }
   ],
   "source": [
    "fig = px.bar(\n",
    "    flow_df[\n",
    "        (flow_df['date'] > jdatetime.datetime.strptime('1402-12-25', \"%Y-%m-%d\").date()) &\n",
    "        (flow_df['date'] < jdatetime.datetime.strptime('1403-01-17', \"%Y-%m-%d\").date())],\n",
    "    x='date',\n",
    "    y='cnt',\n",
    "    color='color',\n",
    "    barmode='group',\n",
    "    color_discrete_sequence=['green', 'red'],  # Custom colors\n",
    "    title=f\"<b>ورودی و خروجی برحسب تاریخ در {city}</b>\"\n",
    ")\n",
    "\n",
    "fig.update_layout(\n",
    "    xaxis=dict(\n",
    "        title_standoff=25,\n",
    "        mirror=True,\n",
    "        ticks='outside',\n",
    "        showline=True,\n",
    "        linecolor='black',\n",
    "        gridcolor='lightgray'\n",
    "    ),\n",
    "    yaxis=dict(\n",
    "        title_standoff=25,\n",
    "        mirror=True,\n",
    "        ticks='outside',\n",
    "        showline=True,\n",
    "        linecolor='black',\n",
    "        gridcolor='lightgray'\n",
    "    )\n",
    ")\n",
    "\n",
    "fig.update_layout(\n",
    "    font=dict(\n",
    "        family='Yas',  # Use a Persian font\n",
    "        size=14,\n",
    "    ),\n",
    "    title_x=0.5,  # Center title\n",
    "    xaxis=dict(\n",
    "        title_font=dict(size=16),\n",
    "        tickfont=dict(size=14)\n",
    "    ),\n",
    "    yaxis=dict(\n",
    "        title_font=dict(size=16),\n",
    "        tickfont=dict(size=14)\n",
    "    )\n",
    ")\n",
    "\n",
    "\n",
    "fig.update_layout(\n",
    "    legend_title='',\n",
    "    xaxis_title='تاریخ',\n",
    "    xaxis_type='category',\n",
    "    bargap=0.4,  # Gap between bars of different classes\n",
    "    bargroupgap=0,  # Gap between bars of same class\n",
    "    yaxis_title='تعداد',\n",
    "    template='plotly_white',\n",
    "    hovermode='x unified',\n",
    ")\n",
    "\n",
    "fig.show()"
   ]
  },
  {
   "cell_type": "code",
   "execution_count": null,
   "id": "5f65eb12",
   "metadata": {},
   "outputs": [],
   "source": []
  }
 ],
 "metadata": {
  "kernelspec": {
   "display_name": "virt_env1",
   "language": "python",
   "name": "python3"
  },
  "language_info": {
   "codemirror_mode": {
    "name": "ipython",
    "version": 3
   },
   "file_extension": ".py",
   "mimetype": "text/x-python",
   "name": "python",
   "nbconvert_exporter": "python",
   "pygments_lexer": "ipython3",
   "version": "3.9.21"
  }
 },
 "nbformat": 4,
 "nbformat_minor": 5
}
